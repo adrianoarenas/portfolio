{
 "cells": [
  {
   "cell_type": "code",
   "execution_count": 47,
   "metadata": {},
   "outputs": [],
   "source": [
    "import pandas as pd\n",
    "import matplotlib.pyplot as plt\n",
    "import geopandas as gpd\n",
    "import contextily as cx\n",
    "import math\n",
    "from shapely.geometry import LineString, Polygon\n",
    "import os\n",
    "\n",
    "import boto3\n",
    "import json\n",
    "\n",
    "#from coordinate_transformations import normalise_column_names, transform_to_web_mercator, apply_web_mercantor"
   ]
  },
  {
   "cell_type": "code",
   "execution_count": 48,
   "metadata": {},
   "outputs": [],
   "source": [
    "from secrets import access_key, secret_access_key"
   ]
  },
  {
   "cell_type": "code",
   "execution_count": 49,
   "metadata": {},
   "outputs": [],
   "source": [
    "from pyproj import Transformer\n",
    "\n",
    "def normalise_column_names(df, lat, lon):\n",
    "    df.rename(columns={lat: \"latitude\", lon: \"longitude\"}, inplace = True)\n",
    "    return df\n",
    "\n",
    "def transform_to_web_mercator(row):\n",
    "    transformer = Transformer.from_crs(\"epsg:4326\", \"epsg:3857\")\n",
    "    return (transformer.transform(row.latitude, row.longitude))\n",
    "\n",
    "def apply_web_mercantor(df):\n",
    "    transformation = df.apply(transform_to_web_mercator, axis=1)\n",
    "    transformation_df = transformation.apply(pd.Series)\n",
    "    transformation_df.columns=['longitude_wm','latitude_wm']\n",
    "    return transformation_df\n"
   ]
  },
  {
   "cell_type": "markdown",
   "metadata": {},
   "source": [
    "### Read file from S3 "
   ]
  },
  {
   "cell_type": "code",
   "execution_count": 18,
   "metadata": {},
   "outputs": [],
   "source": [
    "s3 = boto3.client('s3',\n",
    "                  aws_access_key_id = access_key,\n",
    "                  aws_secret_access_key = secret_access_key)\n",
    "\n",
    "def list_not_processed_files(bucket, prefix):\n",
    "    bucket = bucket\n",
    "    prefix = prefix\n",
    "    files = []\n",
    "\n",
    "    for key in s3.list_objects(Bucket=bucket, Prefix = prefix)['Contents']:\n",
    "        files.append(key['Key'])\n",
    "    \n",
    "    return files"
   ]
  },
  {
   "cell_type": "code",
   "execution_count": 20,
   "metadata": {},
   "outputs": [],
   "source": [
    "bucket = 'galapagos-fishing-vessels-eu-west-1'\n",
    "prefix='not_processed'"
   ]
  },
  {
   "cell_type": "code",
   "execution_count": 43,
   "metadata": {},
   "outputs": [],
   "source": [
    "not_processed = list_not_processed_files(bucket, prefix)"
   ]
  },
  {
   "cell_type": "code",
   "execution_count": 45,
   "metadata": {},
   "outputs": [
    {
     "name": "stdout",
     "output_type": "stream",
     "text": [
      "[{'MMSI': '538003913', 'IMO': '9470959', 'SHIP_ID': '713139', 'LAT': '-1.595126', 'LON': '-93.021484', 'SPEED': '6', 'HEADING': '270', 'COURSE': '41', 'STATUS': '0', 'TIMESTAMP': '2020-10-15T12:21:44.000Z', 'DSRC': 'TER', 'UTC_SECONDS': '45', 'SHIPNAME': 'SUNNY STAR', 'SHIPTYPE': '89', 'CALLSIGN': 'V7TZ6', 'FLAG': 'MH', 'LENGTH': '184', 'WIDTH': '27.43', 'GRT': '23313', 'DWT': '37857', 'DRAUGHT': '95', 'YEAR_BUILT': '2010', 'ROT': '0', 'TYPE_NAME': 'Oil/Chemical Tanker', 'AIS_TYPE_SUMMARY': 'Tanker', 'DESTINATION': 'FOR ORDERS', 'ETA': '2020-10-14T12:00:00.000Z'}]\n",
      "[{'MMSI': '538003913', 'IMO': '9470959', 'SHIP_ID': '713139', 'LAT': '-1.795126', 'LON': '-92.021484', 'SPEED': '6', 'HEADING': '315', 'COURSE': '315', 'STATUS': '0', 'TIMESTAMP': '2020-10-15T12:21:44.000Z', 'DSRC': 'TER', 'UTC_SECONDS': '45', 'SHIPNAME': 'SUNNY STAR', 'SHIPTYPE': '89', 'CALLSIGN': 'V7TZ6', 'FLAG': 'MH', 'LENGTH': '184', 'WIDTH': '27.43', 'GRT': '23313', 'DWT': '37857', 'DRAUGHT': '95', 'YEAR_BUILT': '2010', 'ROT': '0', 'TYPE_NAME': 'Oil/Chemical Tanker', 'AIS_TYPE_SUMMARY': 'Tanker', 'DESTINATION': 'FOR ORDERS', 'ETA': '2020-10-14T12:00:00.000Z'}]\n"
     ]
    }
   ],
   "source": [
    "for file in not_processed:\n",
    "    response = s3.get_object(Bucket=bucket, Key=file)\n",
    "    contentBody = response.get(\"Body\").read().decode('utf-8')\n",
    "    content_json = json.loads(contentBody)\n",
    "    print(content_json)"
   ]
  },
  {
   "cell_type": "code",
   "execution_count": 59,
   "metadata": {},
   "outputs": [],
   "source": [
    "data = pd.read_json(contentBody)"
   ]
  },
  {
   "cell_type": "markdown",
   "metadata": {},
   "source": [
    "Reading Json locally for now"
   ]
  },
  {
   "cell_type": "code",
   "execution_count": 50,
   "metadata": {
    "collapsed": true
   },
   "outputs": [
    {
     "ename": "ValueError",
     "evalue": "Unexpected character found when decoding 'false'",
     "output_type": "error",
     "traceback": [
      "\u001b[0;31m---------------------------------------------------------------------------\u001b[0m",
      "\u001b[0;31mValueError\u001b[0m                                Traceback (most recent call last)",
      "\u001b[0;32m<ipython-input-50-dc0a98d186bd>\u001b[0m in \u001b[0;36m<module>\u001b[0;34m\u001b[0m\n\u001b[0;32m----> 1\u001b[0;31m \u001b[0mdata\u001b[0m \u001b[0;34m=\u001b[0m \u001b[0mpd\u001b[0m\u001b[0;34m.\u001b[0m\u001b[0mread_json\u001b[0m\u001b[0;34m(\u001b[0m\u001b[0;34m\"fishing_vessels_20220526_1533.json\"\u001b[0m\u001b[0;34m)\u001b[0m\u001b[0;34m\u001b[0m\u001b[0;34m\u001b[0m\u001b[0m\n\u001b[0m",
      "\u001b[0;32m~/opt/anaconda3/lib/python3.8/site-packages/pandas/util/_decorators.py\u001b[0m in \u001b[0;36mwrapper\u001b[0;34m(*args, **kwargs)\u001b[0m\n\u001b[1;32m    197\u001b[0m                 \u001b[0;32melse\u001b[0m\u001b[0;34m:\u001b[0m\u001b[0;34m\u001b[0m\u001b[0;34m\u001b[0m\u001b[0m\n\u001b[1;32m    198\u001b[0m                     \u001b[0mkwargs\u001b[0m\u001b[0;34m[\u001b[0m\u001b[0mnew_arg_name\u001b[0m\u001b[0;34m]\u001b[0m \u001b[0;34m=\u001b[0m \u001b[0mnew_arg_value\u001b[0m\u001b[0;34m\u001b[0m\u001b[0;34m\u001b[0m\u001b[0m\n\u001b[0;32m--> 199\u001b[0;31m             \u001b[0;32mreturn\u001b[0m \u001b[0mfunc\u001b[0m\u001b[0;34m(\u001b[0m\u001b[0;34m*\u001b[0m\u001b[0margs\u001b[0m\u001b[0;34m,\u001b[0m \u001b[0;34m**\u001b[0m\u001b[0mkwargs\u001b[0m\u001b[0;34m)\u001b[0m\u001b[0;34m\u001b[0m\u001b[0;34m\u001b[0m\u001b[0m\n\u001b[0m\u001b[1;32m    200\u001b[0m \u001b[0;34m\u001b[0m\u001b[0m\n\u001b[1;32m    201\u001b[0m         \u001b[0;32mreturn\u001b[0m \u001b[0mcast\u001b[0m\u001b[0;34m(\u001b[0m\u001b[0mF\u001b[0m\u001b[0;34m,\u001b[0m \u001b[0mwrapper\u001b[0m\u001b[0;34m)\u001b[0m\u001b[0;34m\u001b[0m\u001b[0;34m\u001b[0m\u001b[0m\n",
      "\u001b[0;32m~/opt/anaconda3/lib/python3.8/site-packages/pandas/util/_decorators.py\u001b[0m in \u001b[0;36mwrapper\u001b[0;34m(*args, **kwargs)\u001b[0m\n\u001b[1;32m    294\u001b[0m                 )\n\u001b[1;32m    295\u001b[0m                 \u001b[0mwarnings\u001b[0m\u001b[0;34m.\u001b[0m\u001b[0mwarn\u001b[0m\u001b[0;34m(\u001b[0m\u001b[0mmsg\u001b[0m\u001b[0;34m,\u001b[0m \u001b[0mFutureWarning\u001b[0m\u001b[0;34m,\u001b[0m \u001b[0mstacklevel\u001b[0m\u001b[0;34m=\u001b[0m\u001b[0mstacklevel\u001b[0m\u001b[0;34m)\u001b[0m\u001b[0;34m\u001b[0m\u001b[0;34m\u001b[0m\u001b[0m\n\u001b[0;32m--> 296\u001b[0;31m             \u001b[0;32mreturn\u001b[0m \u001b[0mfunc\u001b[0m\u001b[0;34m(\u001b[0m\u001b[0;34m*\u001b[0m\u001b[0margs\u001b[0m\u001b[0;34m,\u001b[0m \u001b[0;34m**\u001b[0m\u001b[0mkwargs\u001b[0m\u001b[0;34m)\u001b[0m\u001b[0;34m\u001b[0m\u001b[0;34m\u001b[0m\u001b[0m\n\u001b[0m\u001b[1;32m    297\u001b[0m \u001b[0;34m\u001b[0m\u001b[0m\n\u001b[1;32m    298\u001b[0m         \u001b[0;32mreturn\u001b[0m \u001b[0mwrapper\u001b[0m\u001b[0;34m\u001b[0m\u001b[0;34m\u001b[0m\u001b[0m\n",
      "\u001b[0;32m~/opt/anaconda3/lib/python3.8/site-packages/pandas/io/json/_json.py\u001b[0m in \u001b[0;36mread_json\u001b[0;34m(path_or_buf, orient, typ, dtype, convert_axes, convert_dates, keep_default_dates, numpy, precise_float, date_unit, encoding, lines, chunksize, compression, nrows)\u001b[0m\n\u001b[1;32m    616\u001b[0m         \u001b[0;32mreturn\u001b[0m \u001b[0mjson_reader\u001b[0m\u001b[0;34m\u001b[0m\u001b[0;34m\u001b[0m\u001b[0m\n\u001b[1;32m    617\u001b[0m \u001b[0;34m\u001b[0m\u001b[0m\n\u001b[0;32m--> 618\u001b[0;31m     \u001b[0mresult\u001b[0m \u001b[0;34m=\u001b[0m \u001b[0mjson_reader\u001b[0m\u001b[0;34m.\u001b[0m\u001b[0mread\u001b[0m\u001b[0;34m(\u001b[0m\u001b[0;34m)\u001b[0m\u001b[0;34m\u001b[0m\u001b[0;34m\u001b[0m\u001b[0m\n\u001b[0m\u001b[1;32m    619\u001b[0m     \u001b[0;32mif\u001b[0m \u001b[0mshould_close\u001b[0m\u001b[0;34m:\u001b[0m\u001b[0;34m\u001b[0m\u001b[0;34m\u001b[0m\u001b[0m\n\u001b[1;32m    620\u001b[0m         \u001b[0mfilepath_or_buffer\u001b[0m\u001b[0;34m.\u001b[0m\u001b[0mclose\u001b[0m\u001b[0;34m(\u001b[0m\u001b[0;34m)\u001b[0m\u001b[0;34m\u001b[0m\u001b[0;34m\u001b[0m\u001b[0m\n",
      "\u001b[0;32m~/opt/anaconda3/lib/python3.8/site-packages/pandas/io/json/_json.py\u001b[0m in \u001b[0;36mread\u001b[0;34m(self)\u001b[0m\n\u001b[1;32m    753\u001b[0m                 \u001b[0mobj\u001b[0m \u001b[0;34m=\u001b[0m \u001b[0mself\u001b[0m\u001b[0;34m.\u001b[0m\u001b[0m_get_object_parser\u001b[0m\u001b[0;34m(\u001b[0m\u001b[0mself\u001b[0m\u001b[0;34m.\u001b[0m\u001b[0m_combine_lines\u001b[0m\u001b[0;34m(\u001b[0m\u001b[0mdata\u001b[0m\u001b[0;34m)\u001b[0m\u001b[0;34m)\u001b[0m\u001b[0;34m\u001b[0m\u001b[0;34m\u001b[0m\u001b[0m\n\u001b[1;32m    754\u001b[0m         \u001b[0;32melse\u001b[0m\u001b[0;34m:\u001b[0m\u001b[0;34m\u001b[0m\u001b[0;34m\u001b[0m\u001b[0m\n\u001b[0;32m--> 755\u001b[0;31m             \u001b[0mobj\u001b[0m \u001b[0;34m=\u001b[0m \u001b[0mself\u001b[0m\u001b[0;34m.\u001b[0m\u001b[0m_get_object_parser\u001b[0m\u001b[0;34m(\u001b[0m\u001b[0mself\u001b[0m\u001b[0;34m.\u001b[0m\u001b[0mdata\u001b[0m\u001b[0;34m)\u001b[0m\u001b[0;34m\u001b[0m\u001b[0;34m\u001b[0m\u001b[0m\n\u001b[0m\u001b[1;32m    756\u001b[0m         \u001b[0mself\u001b[0m\u001b[0;34m.\u001b[0m\u001b[0mclose\u001b[0m\u001b[0;34m(\u001b[0m\u001b[0;34m)\u001b[0m\u001b[0;34m\u001b[0m\u001b[0;34m\u001b[0m\u001b[0m\n\u001b[1;32m    757\u001b[0m         \u001b[0;32mreturn\u001b[0m \u001b[0mobj\u001b[0m\u001b[0;34m\u001b[0m\u001b[0;34m\u001b[0m\u001b[0m\n",
      "\u001b[0;32m~/opt/anaconda3/lib/python3.8/site-packages/pandas/io/json/_json.py\u001b[0m in \u001b[0;36m_get_object_parser\u001b[0;34m(self, json)\u001b[0m\n\u001b[1;32m    775\u001b[0m         \u001b[0mobj\u001b[0m \u001b[0;34m=\u001b[0m \u001b[0;32mNone\u001b[0m\u001b[0;34m\u001b[0m\u001b[0;34m\u001b[0m\u001b[0m\n\u001b[1;32m    776\u001b[0m         \u001b[0;32mif\u001b[0m \u001b[0mtyp\u001b[0m \u001b[0;34m==\u001b[0m \u001b[0;34m\"frame\"\u001b[0m\u001b[0;34m:\u001b[0m\u001b[0;34m\u001b[0m\u001b[0;34m\u001b[0m\u001b[0m\n\u001b[0;32m--> 777\u001b[0;31m             \u001b[0mobj\u001b[0m \u001b[0;34m=\u001b[0m \u001b[0mFrameParser\u001b[0m\u001b[0;34m(\u001b[0m\u001b[0mjson\u001b[0m\u001b[0;34m,\u001b[0m \u001b[0;34m**\u001b[0m\u001b[0mkwargs\u001b[0m\u001b[0;34m)\u001b[0m\u001b[0;34m.\u001b[0m\u001b[0mparse\u001b[0m\u001b[0;34m(\u001b[0m\u001b[0;34m)\u001b[0m\u001b[0;34m\u001b[0m\u001b[0;34m\u001b[0m\u001b[0m\n\u001b[0m\u001b[1;32m    778\u001b[0m \u001b[0;34m\u001b[0m\u001b[0m\n\u001b[1;32m    779\u001b[0m         \u001b[0;32mif\u001b[0m \u001b[0mtyp\u001b[0m \u001b[0;34m==\u001b[0m \u001b[0;34m\"series\"\u001b[0m \u001b[0;32mor\u001b[0m \u001b[0mobj\u001b[0m \u001b[0;32mis\u001b[0m \u001b[0;32mNone\u001b[0m\u001b[0;34m:\u001b[0m\u001b[0;34m\u001b[0m\u001b[0;34m\u001b[0m\u001b[0m\n",
      "\u001b[0;32m~/opt/anaconda3/lib/python3.8/site-packages/pandas/io/json/_json.py\u001b[0m in \u001b[0;36mparse\u001b[0;34m(self)\u001b[0m\n\u001b[1;32m    884\u001b[0m \u001b[0;34m\u001b[0m\u001b[0m\n\u001b[1;32m    885\u001b[0m         \u001b[0;32melse\u001b[0m\u001b[0;34m:\u001b[0m\u001b[0;34m\u001b[0m\u001b[0;34m\u001b[0m\u001b[0m\n\u001b[0;32m--> 886\u001b[0;31m             \u001b[0mself\u001b[0m\u001b[0;34m.\u001b[0m\u001b[0m_parse_no_numpy\u001b[0m\u001b[0;34m(\u001b[0m\u001b[0;34m)\u001b[0m\u001b[0;34m\u001b[0m\u001b[0;34m\u001b[0m\u001b[0m\n\u001b[0m\u001b[1;32m    887\u001b[0m \u001b[0;34m\u001b[0m\u001b[0m\n\u001b[1;32m    888\u001b[0m         \u001b[0;32mif\u001b[0m \u001b[0mself\u001b[0m\u001b[0;34m.\u001b[0m\u001b[0mobj\u001b[0m \u001b[0;32mis\u001b[0m \u001b[0;32mNone\u001b[0m\u001b[0;34m:\u001b[0m\u001b[0;34m\u001b[0m\u001b[0;34m\u001b[0m\u001b[0m\n",
      "\u001b[0;32m~/opt/anaconda3/lib/python3.8/site-packages/pandas/io/json/_json.py\u001b[0m in \u001b[0;36m_parse_no_numpy\u001b[0;34m(self)\u001b[0m\n\u001b[1;32m   1117\u001b[0m         \u001b[0;32mif\u001b[0m \u001b[0morient\u001b[0m \u001b[0;34m==\u001b[0m \u001b[0;34m\"columns\"\u001b[0m\u001b[0;34m:\u001b[0m\u001b[0;34m\u001b[0m\u001b[0;34m\u001b[0m\u001b[0m\n\u001b[1;32m   1118\u001b[0m             self.obj = DataFrame(\n\u001b[0;32m-> 1119\u001b[0;31m                 \u001b[0mloads\u001b[0m\u001b[0;34m(\u001b[0m\u001b[0mjson\u001b[0m\u001b[0;34m,\u001b[0m \u001b[0mprecise_float\u001b[0m\u001b[0;34m=\u001b[0m\u001b[0mself\u001b[0m\u001b[0;34m.\u001b[0m\u001b[0mprecise_float\u001b[0m\u001b[0;34m)\u001b[0m\u001b[0;34m,\u001b[0m \u001b[0mdtype\u001b[0m\u001b[0;34m=\u001b[0m\u001b[0;32mNone\u001b[0m\u001b[0;34m\u001b[0m\u001b[0;34m\u001b[0m\u001b[0m\n\u001b[0m\u001b[1;32m   1120\u001b[0m             )\n\u001b[1;32m   1121\u001b[0m         \u001b[0;32melif\u001b[0m \u001b[0morient\u001b[0m \u001b[0;34m==\u001b[0m \u001b[0;34m\"split\"\u001b[0m\u001b[0;34m:\u001b[0m\u001b[0;34m\u001b[0m\u001b[0;34m\u001b[0m\u001b[0m\n",
      "\u001b[0;31mValueError\u001b[0m: Unexpected character found when decoding 'false'"
     ]
    }
   ],
   "source": [
    "data = pd.read_json(\"fishing_vessels_20220526_1533.json\")"
   ]
  },
  {
   "cell_type": "markdown",
   "metadata": {},
   "source": [
    "### Importing map with defined coordinates"
   ]
  },
  {
   "cell_type": "code",
   "execution_count": 69,
   "metadata": {},
   "outputs": [],
   "source": [
    "#Northing\n",
    "LAT_max = 4.39023\n",
    "LAT_min = -4.87205\n",
    "\n",
    "#Easting\n",
    "LON_max = -87\n",
    "LON_min = -101"
   ]
  },
  {
   "cell_type": "code",
   "execution_count": 70,
   "metadata": {},
   "outputs": [],
   "source": [
    "glpgs_img, glpgs_ext = cx.bounds2img(LON_min,\n",
    "                                     LAT_min,\n",
    "                                     LON_max,\n",
    "                                     LAT_max,\n",
    "                                     ll=True,\n",
    "                                     source=cx.providers.OpenStreetMap.DE\n",
    "                                    )"
   ]
  },
  {
   "cell_type": "markdown",
   "metadata": {},
   "source": [
    "### Reading Marine Reserve coordinates from CSV"
   ]
  },
  {
   "cell_type": "code",
   "execution_count": 54,
   "metadata": {},
   "outputs": [],
   "source": [
    "marine_reserve_coords = pd.read_csv('galapagos_marine_reserve.csv')"
   ]
  },
  {
   "cell_type": "code",
   "execution_count": 55,
   "metadata": {},
   "outputs": [],
   "source": [
    "marine_reserve_coords = normalise_column_names(marine_reserve_coords, 'latitude', 'longitude')\n",
    "marine_reserve_wm = apply_web_mercantor(marine_reserve_coords)"
   ]
  },
  {
   "cell_type": "markdown",
   "metadata": {},
   "source": [
    "Creating Polygon"
   ]
  },
  {
   "cell_type": "code",
   "execution_count": 56,
   "metadata": {},
   "outputs": [],
   "source": [
    "polygon_coords = []\n",
    "for index, row in marine_reserve_wm.iterrows():\n",
    "    polygon_coords.append(tuple(row))\n",
    "polygon_coords.append(polygon_coords[0])"
   ]
  },
  {
   "cell_type": "code",
   "execution_count": 57,
   "metadata": {},
   "outputs": [],
   "source": [
    "marine_reserve_polygon = Polygon(polygon_coords)"
   ]
  },
  {
   "cell_type": "markdown",
   "metadata": {},
   "source": [
    "#### Transforming data coords"
   ]
  },
  {
   "cell_type": "markdown",
   "metadata": {},
   "source": [
    "### Applying Web Mercantor Coordinate transformation"
   ]
  },
  {
   "cell_type": "code",
   "execution_count": 60,
   "metadata": {},
   "outputs": [
    {
     "data": {
      "text/html": [
       "<div>\n",
       "<style scoped>\n",
       "    .dataframe tbody tr th:only-of-type {\n",
       "        vertical-align: middle;\n",
       "    }\n",
       "\n",
       "    .dataframe tbody tr th {\n",
       "        vertical-align: top;\n",
       "    }\n",
       "\n",
       "    .dataframe thead th {\n",
       "        text-align: right;\n",
       "    }\n",
       "</style>\n",
       "<table border=\"1\" class=\"dataframe\">\n",
       "  <thead>\n",
       "    <tr style=\"text-align: right;\">\n",
       "      <th></th>\n",
       "      <th>MMSI</th>\n",
       "      <th>IMO</th>\n",
       "      <th>SHIP_ID</th>\n",
       "      <th>latitude</th>\n",
       "      <th>longitude</th>\n",
       "      <th>SPEED</th>\n",
       "      <th>HEADING</th>\n",
       "      <th>COURSE</th>\n",
       "      <th>STATUS</th>\n",
       "      <th>TIMESTAMP</th>\n",
       "      <th>...</th>\n",
       "      <th>WIDTH</th>\n",
       "      <th>GRT</th>\n",
       "      <th>DWT</th>\n",
       "      <th>DRAUGHT</th>\n",
       "      <th>YEAR_BUILT</th>\n",
       "      <th>ROT</th>\n",
       "      <th>TYPE_NAME</th>\n",
       "      <th>AIS_TYPE_SUMMARY</th>\n",
       "      <th>DESTINATION</th>\n",
       "      <th>ETA</th>\n",
       "    </tr>\n",
       "  </thead>\n",
       "  <tbody>\n",
       "    <tr>\n",
       "      <th>0</th>\n",
       "      <td>538003913</td>\n",
       "      <td>9470959</td>\n",
       "      <td>713139</td>\n",
       "      <td>-1.795126</td>\n",
       "      <td>-92.021484</td>\n",
       "      <td>6</td>\n",
       "      <td>315</td>\n",
       "      <td>315</td>\n",
       "      <td>0</td>\n",
       "      <td>2020-10-15 12:21:44+00:00</td>\n",
       "      <td>...</td>\n",
       "      <td>27.43</td>\n",
       "      <td>23313</td>\n",
       "      <td>37857</td>\n",
       "      <td>95</td>\n",
       "      <td>2010</td>\n",
       "      <td>0</td>\n",
       "      <td>Oil/Chemical Tanker</td>\n",
       "      <td>Tanker</td>\n",
       "      <td>FOR ORDERS</td>\n",
       "      <td>2020-10-14T12:00:00.000Z</td>\n",
       "    </tr>\n",
       "  </tbody>\n",
       "</table>\n",
       "<p>1 rows × 27 columns</p>\n",
       "</div>"
      ],
      "text/plain": [
       "        MMSI      IMO  SHIP_ID  latitude  longitude  SPEED  HEADING  COURSE  \\\n",
       "0  538003913  9470959   713139 -1.795126 -92.021484      6      315     315   \n",
       "\n",
       "   STATUS                 TIMESTAMP  ...  WIDTH    GRT    DWT  DRAUGHT  \\\n",
       "0       0 2020-10-15 12:21:44+00:00  ...  27.43  23313  37857       95   \n",
       "\n",
       "  YEAR_BUILT ROT            TYPE_NAME  AIS_TYPE_SUMMARY  DESTINATION  \\\n",
       "0       2010   0  Oil/Chemical Tanker            Tanker   FOR ORDERS   \n",
       "\n",
       "                        ETA  \n",
       "0  2020-10-14T12:00:00.000Z  \n",
       "\n",
       "[1 rows x 27 columns]"
      ]
     },
     "execution_count": 60,
     "metadata": {},
     "output_type": "execute_result"
    }
   ],
   "source": [
    "normalise_column_names(data, 'LAT', 'LON')"
   ]
  },
  {
   "cell_type": "code",
   "execution_count": 61,
   "metadata": {},
   "outputs": [],
   "source": [
    "data_wm_coords = pd.concat([data, apply_web_mercantor(data)], axis = 1)"
   ]
  },
  {
   "cell_type": "markdown",
   "metadata": {},
   "source": [
    "### Creating function direction-intersect function"
   ]
  },
  {
   "cell_type": "markdown",
   "metadata": {},
   "source": [
    "This function checks takes the direction of the boat and draws a straight line to see if this direction intersects with the marine reserve and returns if intersection is True or False as well as a second points to draw a line"
   ]
  },
  {
   "cell_type": "code",
   "execution_count": 65,
   "metadata": {},
   "outputs": [],
   "source": [
    "def direction_line(df):\n",
    "    ref_angle = (df['HEADING'] + 90)%360\n",
    "    dist_intersection = 500000\n",
    "    dist_map = 40000\n",
    "            \n",
    "    angle_rad = math.radians(ref_angle)\n",
    "    \n",
    "    #This lat and lon are longers as its just drawing a straight line to see if intersects\n",
    "    longitude_2_intersection = df['longitude_wm'] + dist_intersection * math.cos(angle_rad)\n",
    "    latitude_2_intersection = df['latitude_wm'] + dist_intersection * math.sin(angle_rad)\n",
    "    \n",
    "    line = LineString([(df['longitude_wm'], df['latitude_wm']), (longitude_2_intersection, latitude_2_intersection)])\n",
    "    intersects = line.intersects(marine_reserve_polygon)\n",
    "    \n",
    "    \n",
    "    #This lat and lon are shorter and will be added to the DF just for plotting purposes in the map\n",
    "    longitude_2_map = df['longitude_wm'] + dist_map * math.cos(angle_rad)\n",
    "    latitude_2_map = df['latitude_wm'] + dist_map * math.sin(angle_rad)\n",
    "    \n",
    "    return (longitude_2_map, latitude_2_map, intersects)"
   ]
  },
  {
   "cell_type": "code",
   "execution_count": 66,
   "metadata": {},
   "outputs": [],
   "source": [
    "second_coords = data_wm_coords.apply(direction_line, axis=1)\n",
    "second_coords_wm = second_coords.apply(pd.Series)\n",
    "second_coords_wm.columns=['longitude_wm_2','latitude_wm_2','intersects']"
   ]
  },
  {
   "cell_type": "code",
   "execution_count": 67,
   "metadata": {},
   "outputs": [],
   "source": [
    "final_data = pd.concat([data_wm_coords, second_coords_wm], axis = 1)"
   ]
  },
  {
   "cell_type": "markdown",
   "metadata": {},
   "source": [
    "#### Ploting final map"
   ]
  },
  {
   "cell_type": "code",
   "execution_count": 71,
   "metadata": {},
   "outputs": [
    {
     "data": {
      "image/png": "[encoded data removed]",
      "text/plain": [
       "<Figure size 1440x1440 with 1 Axes>"
      ]
     },
     "metadata": {
      "needs_background": "light"
     },
     "output_type": "display_data"
    }
   ],
   "source": [
    "f, ax = plt.subplots(1, figsize=(20, 20))\n",
    "ax.imshow(glpgs_img, extent=glpgs_ext)\n",
    "plt.fill('longitude_wm', 'latitude_wm', data = marine_reserve_wm, edgecolor='g', fill=False)\n",
    "\n",
    "for index, row in final_data.iterrows():\n",
    "    plt.scatter(row['longitude_wm'], row['latitude_wm'], color = 'black', marker = 'o', edgecolors='black', s = 100)\n",
    "    \n",
    "    plt.annotate('', xytext=(row['longitude_wm'], row['latitude_wm']),\\\n",
    "                 xy=(row['longitude_wm_2'], row['latitude_wm_2']),\\\n",
    "                 arrowprops=dict(arrowstyle=\"->\", color='black'), size = 30)\n",
    "    \n",
    "    plt.show()"
   ]
  },
  {
   "cell_type": "code",
   "execution_count": 16,
   "metadata": {},
   "outputs": [
    {
     "data": {
      "text/html": [
       "<div>\n",
       "<style scoped>\n",
       "    .dataframe tbody tr th:only-of-type {\n",
       "        vertical-align: middle;\n",
       "    }\n",
       "\n",
       "    .dataframe tbody tr th {\n",
       "        vertical-align: top;\n",
       "    }\n",
       "\n",
       "    .dataframe thead th {\n",
       "        text-align: right;\n",
       "    }\n",
       "</style>\n",
       "<table border=\"1\" class=\"dataframe\">\n",
       "  <thead>\n",
       "    <tr style=\"text-align: right;\">\n",
       "      <th></th>\n",
       "      <th>MMSI</th>\n",
       "      <th>IMO</th>\n",
       "      <th>SHIP_ID</th>\n",
       "      <th>latitude</th>\n",
       "      <th>longitude</th>\n",
       "      <th>SPEED</th>\n",
       "      <th>HEADING</th>\n",
       "      <th>COURSE</th>\n",
       "      <th>STATUS</th>\n",
       "      <th>TIMESTAMP</th>\n",
       "      <th>...</th>\n",
       "      <th>ROT</th>\n",
       "      <th>TYPE_NAME</th>\n",
       "      <th>AIS_TYPE_SUMMARY</th>\n",
       "      <th>DESTINATION</th>\n",
       "      <th>ETA</th>\n",
       "      <th>longitude_wm</th>\n",
       "      <th>latitude_wm</th>\n",
       "      <th>longitude_wm_2</th>\n",
       "      <th>latitude_wm_2</th>\n",
       "      <th>intersects</th>\n",
       "    </tr>\n",
       "  </thead>\n",
       "  <tbody>\n",
       "    <tr>\n",
       "      <th>0</th>\n",
       "      <td>538003913</td>\n",
       "      <td>9470959</td>\n",
       "      <td>713139</td>\n",
       "      <td>-1.595126</td>\n",
       "      <td>-93.021484</td>\n",
       "      <td>6</td>\n",
       "      <td>45</td>\n",
       "      <td>41</td>\n",
       "      <td>0</td>\n",
       "      <td>2020-10-15 12:21:44+00:00</td>\n",
       "      <td>...</td>\n",
       "      <td>0</td>\n",
       "      <td>Oil/Chemical Tanker</td>\n",
       "      <td>Tanker</td>\n",
       "      <td>FOR ORDERS</td>\n",
       "      <td>2020-10-14T12:00:00.000Z</td>\n",
       "      <td>-1.035510e+07</td>\n",
       "      <td>-177591.556735</td>\n",
       "      <td>-1.038339e+07</td>\n",
       "      <td>-149307.285487</td>\n",
       "      <td>False</td>\n",
       "    </tr>\n",
       "  </tbody>\n",
       "</table>\n",
       "<p>1 rows × 32 columns</p>\n",
       "</div>"
      ],
      "text/plain": [
       "        MMSI      IMO  SHIP_ID  latitude  longitude  SPEED  HEADING  COURSE  \\\n",
       "0  538003913  9470959   713139 -1.595126 -93.021484      6       45      41   \n",
       "\n",
       "   STATUS                 TIMESTAMP  ... ROT            TYPE_NAME  \\\n",
       "0       0 2020-10-15 12:21:44+00:00  ...   0  Oil/Chemical Tanker   \n",
       "\n",
       "  AIS_TYPE_SUMMARY  DESTINATION                       ETA  longitude_wm  \\\n",
       "0           Tanker   FOR ORDERS  2020-10-14T12:00:00.000Z -1.035510e+07   \n",
       "\n",
       "     latitude_wm  longitude_wm_2  latitude_wm_2  intersects  \n",
       "0 -177591.556735   -1.038339e+07 -149307.285487       False  \n",
       "\n",
       "[1 rows x 32 columns]"
      ]
     },
     "execution_count": 16,
     "metadata": {},
     "output_type": "execute_result"
    }
   ],
   "source": [
    "final_data"
   ]
  },
  {
   "cell_type": "code",
   "execution_count": null,
   "metadata": {},
   "outputs": [],
   "source": []
  }
 ],
 "metadata": {
  "kernelspec": {
   "display_name": "Python 3",
   "language": "python",
   "name": "python3"
  },
  "language_info": {
   "codemirror_mode": {
    "name": "ipython",
    "version": 3
   },
   "file_extension": ".py",
   "mimetype": "text/x-python",
   "name": "python",
   "nbconvert_exporter": "python",
   "pygments_lexer": "ipython3",
   "version": "3.8.5"
  }
 },
 "nbformat": 4,
 "nbformat_minor": 4
}
