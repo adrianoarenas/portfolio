{
 "cells": [
  {
   "cell_type": "code",
   "execution_count": 13,
   "metadata": {},
   "outputs": [],
   "source": [
    "import requests\n",
    "import json\n",
    "from datetime import datetime\n",
    "\n",
    "import boto3\n",
    "from secrets import access_key, secret_access_key"
   ]
  },
  {
   "cell_type": "code",
   "execution_count": 23,
   "metadata": {},
   "outputs": [],
   "source": [
    "base_url = 'https://services.marinetraffic.com/api'\n",
    "\n",
    "api_values = {'version': 8,\n",
    "              'timespan': 5,\n",
    "              'message': 'extended',\n",
    "              'file_format': 'json',\n",
    "              'ship': 2,\n",
    "              'api_key':''}"
   ]
  },
  {
   "cell_type": "code",
   "execution_count": 24,
   "metadata": {},
   "outputs": [],
   "source": [
    "api = '/exportvessels/{api_key}?v={version}&timespan={timespan}&msgtype={message}&protocol={file_format}&shiptype={ship}'\\\n",
    ".format(version = api_values['version'],\\\n",
    "        api_key = api_values['api_key'],\\\n",
    "        timespan = api_values['timespan'],\\\n",
    "        message = api_values['message'],\\\n",
    "        file_format = api_values['file_format'],\\\n",
    "        ship = api_values['ship'])"
   ]
  },
  {
   "cell_type": "code",
   "execution_count": 25,
   "metadata": {},
   "outputs": [],
   "source": [
    "url = base_url + api"
   ]
  },
  {
   "cell_type": "code",
   "execution_count": 26,
   "metadata": {},
   "outputs": [],
   "source": [
    "response = requests.get(url)"
   ]
  },
  {
   "cell_type": "code",
   "execution_count": 29,
   "metadata": {},
   "outputs": [],
   "source": [
    "response = [\n",
    "  {\n",
    "    \"MMSI\": \"538003913\",\n",
    "    \"IMO\": \"9470959\",\n",
    "    \"SHIP_ID\": \"713139\",\n",
    "    \"LAT\": \"-1.795126\",\n",
    "    \"LON\": \"-92.021484\",\n",
    "    \"SPEED\": \"6\",\n",
    "    \"HEADING\": \"315\",\n",
    "    \"COURSE\": \"315\",\n",
    "    \"STATUS\": \"0\",\n",
    "    \"TIMESTAMP\": \"2020-10-15T12:21:44.000Z\",\n",
    "    \"DSRC\": \"TER\",\n",
    "    \"UTC_SECONDS\": \"45\",\n",
    "    \"SHIPNAME\": \"SUNNY STAR\",\n",
    "    \"SHIPTYPE\": \"89\",\n",
    "    \"CALLSIGN\": \"V7TZ6\",\n",
    "    \"FLAG\": \"MH\",\n",
    "    \"LENGTH\": \"184\",\n",
    "    \"WIDTH\": \"27.43\",\n",
    "    \"GRT\": \"23313\",\n",
    "    \"DWT\": \"37857\",\n",
    "    \"DRAUGHT\": \"95\",\n",
    "    \"YEAR_BUILT\": \"2010\",\n",
    "    \"ROT\": \"0\",\n",
    "    \"TYPE_NAME\": \"Oil/Chemical Tanker\",\n",
    "    \"AIS_TYPE_SUMMARY\": \"Tanker\",\n",
    "    \"DESTINATION\": \"FOR ORDERS\",\n",
    "    \"ETA\": \"2020-10-14T12:00:00.000Z\"\n",
    "  }\n",
    "]"
   ]
  },
  {
   "cell_type": "code",
   "execution_count": 30,
   "metadata": {},
   "outputs": [],
   "source": [
    "json_string = json.dumps(response)"
   ]
  },
  {
   "cell_type": "code",
   "execution_count": 8,
   "metadata": {},
   "outputs": [],
   "source": [
    "utcs_now = datetime.utcnow().strftime('%Y%m%d_%H%M')"
   ]
  },
  {
   "cell_type": "code",
   "execution_count": 9,
   "metadata": {},
   "outputs": [],
   "source": [
    "with open('fishing_vessels_{}.json'.format(utcs_now), 'w') as outfile:\n",
    "    outfile.write(json_string)"
   ]
  },
  {
   "cell_type": "markdown",
   "metadata": {},
   "source": [
    "### S3 load"
   ]
  },
  {
   "cell_type": "code",
   "execution_count": 10,
   "metadata": {},
   "outputs": [],
   "source": [
    "client = boto3.client('s3',\n",
    "                     aws_access_key_id = access_key,\n",
    "                     aws_secret_access_key = secret_access_key)\n",
    "\n",
    "bucket = 'galapagos-fishing-vessels-eu-west-1'\n",
    "key = 'not_processed/fishing_vessels_{}.json'.format(utcs_now)"
   ]
  },
  {
   "cell_type": "code",
   "execution_count": 11,
   "metadata": {},
   "outputs": [
    {
     "data": {
      "text/plain": [
       "{'ResponseMetadata': {'RequestId': 'RTN6CDWVZSGJ6X61',\n",
       "  'HostId': 'KZpvIDOoyvBYTIybcmPCCC3Qo/mLIQjwti7n9HJe+EOAlEP5oaJDgXKpl2VJdv+9fO4ZDeRqnZE=',\n",
       "  'HTTPStatusCode': 200,\n",
       "  'HTTPHeaders': {'x-amz-id-2': 'KZpvIDOoyvBYTIybcmPCCC3Qo/mLIQjwti7n9HJe+EOAlEP5oaJDgXKpl2VJdv+9fO4ZDeRqnZE=',\n",
       "   'x-amz-request-id': 'RTN6CDWVZSGJ6X61',\n",
       "   'date': 'Tue, 31 May 2022 20:55:46 GMT',\n",
       "   'etag': '\"79be45a4789c227637735f8617250eed\"',\n",
       "   'server': 'AmazonS3',\n",
       "   'content-length': '0'},\n",
       "  'RetryAttempts': 1},\n",
       " 'ETag': '\"79be45a4789c227637735f8617250eed\"'}"
      ]
     },
     "execution_count": 11,
     "metadata": {},
     "output_type": "execute_result"
    }
   ],
   "source": [
    "client.put_object(Body = json_string, \n",
    "                  Bucket = bucket, \n",
    "                  Key = key)"
   ]
  },
  {
   "cell_type": "code",
   "execution_count": null,
   "metadata": {},
   "outputs": [],
   "source": []
  },
  {
   "cell_type": "code",
   "execution_count": null,
   "metadata": {},
   "outputs": [],
   "source": []
  },
  {
   "cell_type": "code",
   "execution_count": 12,
   "metadata": {
    "collapsed": true
   },
   "outputs": [
    {
     "ename": "TypeError",
     "evalue": "Object of type Response is not JSON serializable",
     "output_type": "error",
     "traceback": [
      "\u001b[0;31m---------------------------------------------------------------------------\u001b[0m",
      "\u001b[0;31mTypeError\u001b[0m                                 Traceback (most recent call last)",
      "\u001b[0;32m<ipython-input-12-d2e044135605>\u001b[0m in \u001b[0;36m<module>\u001b[0;34m\u001b[0m\n\u001b[1;32m     22\u001b[0m \u001b[0;34m\u001b[0m\u001b[0m\n\u001b[1;32m     23\u001b[0m \u001b[0;34m\u001b[0m\u001b[0m\n\u001b[0;32m---> 24\u001b[0;31m \u001b[0mjson_string\u001b[0m \u001b[0;34m=\u001b[0m \u001b[0mapi_connection\u001b[0m\u001b[0;34m(\u001b[0m\u001b[0;36m8\u001b[0m\u001b[0;34m,\u001b[0m \u001b[0;36m5\u001b[0m\u001b[0;34m,\u001b[0m \u001b[0;34m'extended'\u001b[0m\u001b[0;34m,\u001b[0m \u001b[0;34m'json'\u001b[0m\u001b[0;34m,\u001b[0m \u001b[0;36m2\u001b[0m\u001b[0;34m,\u001b[0m \u001b[0;34m'e808bc0548769787eef0d85eea63b2595bfcdaab'\u001b[0m\u001b[0;34m)\u001b[0m\u001b[0;34m\u001b[0m\u001b[0;34m\u001b[0m\u001b[0m\n\u001b[0m",
      "\u001b[0;32m<ipython-input-12-d2e044135605>\u001b[0m in \u001b[0;36mapi_connection\u001b[0;34m(version, timespan, message, file_format, ship, api_key)\u001b[0m\n\u001b[1;32m     18\u001b[0m     \u001b[0murl\u001b[0m \u001b[0;34m=\u001b[0m \u001b[0mbase_url\u001b[0m \u001b[0;34m+\u001b[0m \u001b[0mapi\u001b[0m\u001b[0;34m\u001b[0m\u001b[0;34m\u001b[0m\u001b[0m\n\u001b[1;32m     19\u001b[0m     \u001b[0mresponse\u001b[0m \u001b[0;34m=\u001b[0m \u001b[0mrequests\u001b[0m\u001b[0;34m.\u001b[0m\u001b[0mget\u001b[0m\u001b[0;34m(\u001b[0m\u001b[0murl\u001b[0m\u001b[0;34m)\u001b[0m\u001b[0;34m\u001b[0m\u001b[0;34m\u001b[0m\u001b[0m\n\u001b[0;32m---> 20\u001b[0;31m     \u001b[0mjson_string\u001b[0m \u001b[0;34m=\u001b[0m \u001b[0mjson\u001b[0m\u001b[0;34m.\u001b[0m\u001b[0mdumps\u001b[0m\u001b[0;34m(\u001b[0m\u001b[0mresponse\u001b[0m\u001b[0;34m)\u001b[0m\u001b[0;34m\u001b[0m\u001b[0;34m\u001b[0m\u001b[0m\n\u001b[0m\u001b[1;32m     21\u001b[0m     \u001b[0;32mreturn\u001b[0m\u001b[0;34m(\u001b[0m\u001b[0mjson_string\u001b[0m\u001b[0;34m)\u001b[0m\u001b[0;34m\u001b[0m\u001b[0;34m\u001b[0m\u001b[0m\n\u001b[1;32m     22\u001b[0m \u001b[0;34m\u001b[0m\u001b[0m\n",
      "\u001b[0;32m~/opt/anaconda3/lib/python3.8/json/__init__.py\u001b[0m in \u001b[0;36mdumps\u001b[0;34m(obj, skipkeys, ensure_ascii, check_circular, allow_nan, cls, indent, separators, default, sort_keys, **kw)\u001b[0m\n\u001b[1;32m    229\u001b[0m         \u001b[0mcls\u001b[0m \u001b[0;32mis\u001b[0m \u001b[0;32mNone\u001b[0m \u001b[0;32mand\u001b[0m \u001b[0mindent\u001b[0m \u001b[0;32mis\u001b[0m \u001b[0;32mNone\u001b[0m \u001b[0;32mand\u001b[0m \u001b[0mseparators\u001b[0m \u001b[0;32mis\u001b[0m \u001b[0;32mNone\u001b[0m \u001b[0;32mand\u001b[0m\u001b[0;34m\u001b[0m\u001b[0;34m\u001b[0m\u001b[0m\n\u001b[1;32m    230\u001b[0m         default is None and not sort_keys and not kw):\n\u001b[0;32m--> 231\u001b[0;31m         \u001b[0;32mreturn\u001b[0m \u001b[0m_default_encoder\u001b[0m\u001b[0;34m.\u001b[0m\u001b[0mencode\u001b[0m\u001b[0;34m(\u001b[0m\u001b[0mobj\u001b[0m\u001b[0;34m)\u001b[0m\u001b[0;34m\u001b[0m\u001b[0;34m\u001b[0m\u001b[0m\n\u001b[0m\u001b[1;32m    232\u001b[0m     \u001b[0;32mif\u001b[0m \u001b[0mcls\u001b[0m \u001b[0;32mis\u001b[0m \u001b[0;32mNone\u001b[0m\u001b[0;34m:\u001b[0m\u001b[0;34m\u001b[0m\u001b[0;34m\u001b[0m\u001b[0m\n\u001b[1;32m    233\u001b[0m         \u001b[0mcls\u001b[0m \u001b[0;34m=\u001b[0m \u001b[0mJSONEncoder\u001b[0m\u001b[0;34m\u001b[0m\u001b[0;34m\u001b[0m\u001b[0m\n",
      "\u001b[0;32m~/opt/anaconda3/lib/python3.8/json/encoder.py\u001b[0m in \u001b[0;36mencode\u001b[0;34m(self, o)\u001b[0m\n\u001b[1;32m    197\u001b[0m         \u001b[0;31m# exceptions aren't as detailed.  The list call should be roughly\u001b[0m\u001b[0;34m\u001b[0m\u001b[0;34m\u001b[0m\u001b[0;34m\u001b[0m\u001b[0m\n\u001b[1;32m    198\u001b[0m         \u001b[0;31m# equivalent to the PySequence_Fast that ''.join() would do.\u001b[0m\u001b[0;34m\u001b[0m\u001b[0;34m\u001b[0m\u001b[0;34m\u001b[0m\u001b[0m\n\u001b[0;32m--> 199\u001b[0;31m         \u001b[0mchunks\u001b[0m \u001b[0;34m=\u001b[0m \u001b[0mself\u001b[0m\u001b[0;34m.\u001b[0m\u001b[0miterencode\u001b[0m\u001b[0;34m(\u001b[0m\u001b[0mo\u001b[0m\u001b[0;34m,\u001b[0m \u001b[0m_one_shot\u001b[0m\u001b[0;34m=\u001b[0m\u001b[0;32mTrue\u001b[0m\u001b[0;34m)\u001b[0m\u001b[0;34m\u001b[0m\u001b[0;34m\u001b[0m\u001b[0m\n\u001b[0m\u001b[1;32m    200\u001b[0m         \u001b[0;32mif\u001b[0m \u001b[0;32mnot\u001b[0m \u001b[0misinstance\u001b[0m\u001b[0;34m(\u001b[0m\u001b[0mchunks\u001b[0m\u001b[0;34m,\u001b[0m \u001b[0;34m(\u001b[0m\u001b[0mlist\u001b[0m\u001b[0;34m,\u001b[0m \u001b[0mtuple\u001b[0m\u001b[0;34m)\u001b[0m\u001b[0;34m)\u001b[0m\u001b[0;34m:\u001b[0m\u001b[0;34m\u001b[0m\u001b[0;34m\u001b[0m\u001b[0m\n\u001b[1;32m    201\u001b[0m             \u001b[0mchunks\u001b[0m \u001b[0;34m=\u001b[0m \u001b[0mlist\u001b[0m\u001b[0;34m(\u001b[0m\u001b[0mchunks\u001b[0m\u001b[0;34m)\u001b[0m\u001b[0;34m\u001b[0m\u001b[0;34m\u001b[0m\u001b[0m\n",
      "\u001b[0;32m~/opt/anaconda3/lib/python3.8/json/encoder.py\u001b[0m in \u001b[0;36miterencode\u001b[0;34m(self, o, _one_shot)\u001b[0m\n\u001b[1;32m    255\u001b[0m                 \u001b[0mself\u001b[0m\u001b[0;34m.\u001b[0m\u001b[0mkey_separator\u001b[0m\u001b[0;34m,\u001b[0m \u001b[0mself\u001b[0m\u001b[0;34m.\u001b[0m\u001b[0mitem_separator\u001b[0m\u001b[0;34m,\u001b[0m \u001b[0mself\u001b[0m\u001b[0;34m.\u001b[0m\u001b[0msort_keys\u001b[0m\u001b[0;34m,\u001b[0m\u001b[0;34m\u001b[0m\u001b[0;34m\u001b[0m\u001b[0m\n\u001b[1;32m    256\u001b[0m                 self.skipkeys, _one_shot)\n\u001b[0;32m--> 257\u001b[0;31m         \u001b[0;32mreturn\u001b[0m \u001b[0m_iterencode\u001b[0m\u001b[0;34m(\u001b[0m\u001b[0mo\u001b[0m\u001b[0;34m,\u001b[0m \u001b[0;36m0\u001b[0m\u001b[0;34m)\u001b[0m\u001b[0;34m\u001b[0m\u001b[0;34m\u001b[0m\u001b[0m\n\u001b[0m\u001b[1;32m    258\u001b[0m \u001b[0;34m\u001b[0m\u001b[0m\n\u001b[1;32m    259\u001b[0m def _make_iterencode(markers, _default, _encoder, _indent, _floatstr,\n",
      "\u001b[0;32m~/opt/anaconda3/lib/python3.8/json/encoder.py\u001b[0m in \u001b[0;36mdefault\u001b[0;34m(self, o)\u001b[0m\n\u001b[1;32m    177\u001b[0m \u001b[0;34m\u001b[0m\u001b[0m\n\u001b[1;32m    178\u001b[0m         \"\"\"\n\u001b[0;32m--> 179\u001b[0;31m         raise TypeError(f'Object of type {o.__class__.__name__} '\n\u001b[0m\u001b[1;32m    180\u001b[0m                         f'is not JSON serializable')\n\u001b[1;32m    181\u001b[0m \u001b[0;34m\u001b[0m\u001b[0m\n",
      "\u001b[0;31mTypeError\u001b[0m: Object of type Response is not JSON serializable"
     ]
    }
   ],
   "source": [
    "def api_connection(version, timespan, message, file_format, ship, api_key):\n",
    "    base_url = 'https://services.marinetraffic.com/api'\n",
    "    api_values = {'version': version,\n",
    "                'timespan': timespan,\n",
    "                'message': message,\n",
    "                'file_format': file_format,\n",
    "                'ship': ship,\n",
    "                'api_key': api_key}\n",
    "                \n",
    "    api = '/exportvessels/{api_key}?v={version}&timespan={timespan}&msgtype={message}&protocol={file_format}&shiptype={ship}'\\\n",
    "    .format(version = api_values['version'],\\\n",
    "            api_key = api_values['api_key'],\\\n",
    "            timespan = api_values['timespan'],\\\n",
    "            message = api_values['message'],\\\n",
    "            file_format = api_values['file_format'],\\\n",
    "            ship = api_values['ship'])\n",
    "\n",
    "    url = base_url + api\n",
    "    response = requests.get(url)\n",
    "    json_string = json.dumps(response)\n",
    "    return(json_string)\n",
    "\n",
    "\n",
    "json_string = api_connection(8, 5, 'extended', 'json', 2, 'e808bc0548769787eef0d85eea63b2595bfcdaab')"
   ]
  },
  {
   "cell_type": "code",
   "execution_count": 32,
   "metadata": {},
   "outputs": [
    {
     "data": {
      "text/plain": [
       "'[{\"MMSI\": \"538003913\", \"IMO\": \"9470959\", \"SHIP_ID\": \"713139\", \"LAT\": \"-1.795126\", \"LON\": \"-92.021484\", \"SPEED\": \"6\", \"HEADING\": \"315\", \"COURSE\": \"315\", \"STATUS\": \"0\", \"TIMESTAMP\": \"2020-10-15T12:21:44.000Z\", \"DSRC\": \"TER\", \"UTC_SECONDS\": \"45\", \"SHIPNAME\": \"SUNNY STAR\", \"SHIPTYPE\": \"89\", \"CALLSIGN\": \"V7TZ6\", \"FLAG\": \"MH\", \"LENGTH\": \"184\", \"WIDTH\": \"27.43\", \"GRT\": \"23313\", \"DWT\": \"37857\", \"DRAUGHT\": \"95\", \"YEAR_BUILT\": \"2010\", \"ROT\": \"0\", \"TYPE_NAME\": \"Oil/Chemical Tanker\", \"AIS_TYPE_SUMMARY\": \"Tanker\", \"DESTINATION\": \"FOR ORDERS\", \"ETA\": \"2020-10-14T12:00:00.000Z\"}]'"
      ]
     },
     "execution_count": 32,
     "metadata": {},
     "output_type": "execute_result"
    }
   ],
   "source": [
    "json.dumps(response)"
   ]
  },
  {
   "cell_type": "code",
   "execution_count": 31,
   "metadata": {},
   "outputs": [
    {
     "data": {
      "text/plain": [
       "[{'MMSI': '538003913',\n",
       "  'IMO': '9470959',\n",
       "  'SHIP_ID': '713139',\n",
       "  'LAT': '-1.795126',\n",
       "  'LON': '-92.021484',\n",
       "  'SPEED': '6',\n",
       "  'HEADING': '315',\n",
       "  'COURSE': '315',\n",
       "  'STATUS': '0',\n",
       "  'TIMESTAMP': '2020-10-15T12:21:44.000Z',\n",
       "  'DSRC': 'TER',\n",
       "  'UTC_SECONDS': '45',\n",
       "  'SHIPNAME': 'SUNNY STAR',\n",
       "  'SHIPTYPE': '89',\n",
       "  'CALLSIGN': 'V7TZ6',\n",
       "  'FLAG': 'MH',\n",
       "  'LENGTH': '184',\n",
       "  'WIDTH': '27.43',\n",
       "  'GRT': '23313',\n",
       "  'DWT': '37857',\n",
       "  'DRAUGHT': '95',\n",
       "  'YEAR_BUILT': '2010',\n",
       "  'ROT': '0',\n",
       "  'TYPE_NAME': 'Oil/Chemical Tanker',\n",
       "  'AIS_TYPE_SUMMARY': 'Tanker',\n",
       "  'DESTINATION': 'FOR ORDERS',\n",
       "  'ETA': '2020-10-14T12:00:00.000Z'}]"
      ]
     },
     "execution_count": 31,
     "metadata": {},
     "output_type": "execute_result"
    }
   ],
   "source": [
    "response"
   ]
  },
  {
   "cell_type": "code",
   "execution_count": null,
   "metadata": {},
   "outputs": [],
   "source": []
  }
 ],
 "metadata": {
  "kernelspec": {
   "display_name": "Python 3",
   "language": "python",
   "name": "python3"
  },
  "language_info": {
   "codemirror_mode": {
    "name": "ipython",
    "version": 3
   },
   "file_extension": ".py",
   "mimetype": "text/x-python",
   "name": "python",
   "nbconvert_exporter": "python",
   "pygments_lexer": "ipython3",
   "version": "3.8.5"
  }
 },
 "nbformat": 4,
 "nbformat_minor": 4
}
