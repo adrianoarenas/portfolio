{
 "cells": [
  {
   "cell_type": "code",
   "execution_count": 16,
   "metadata": {},
   "outputs": [],
   "source": [
    "import requests\n",
    "import pandas as pd\n",
    "import matplotlib.pyplot as plt\n",
    "import geopandas as gpd\n",
    "import contextily as cx\n",
    "import json\n",
    "from pyproj import Transformer"
   ]
  },
  {
   "cell_type": "code",
   "execution_count": 49,
   "metadata": {},
   "outputs": [],
   "source": [
    "import boto3\n",
    "from datetime import datetime\n",
    "from secrets import access_key, secret_access_key, api_key"
   ]
  },
  {
   "cell_type": "markdown",
   "metadata": {},
   "source": [
    "## Collection"
   ]
  },
  {
   "cell_type": "code",
   "execution_count": 45,
   "metadata": {},
   "outputs": [],
   "source": [
    "def api_connection(tide, format, lat, lon, tp, api_key):\n",
    "    base_url = 'http://api.worldweatheronline.com'\n",
    "    \n",
    "    api_values = {'tide': tide,\n",
    "                  'format': format,\n",
    "                  'lat': lat,\n",
    "                  'lon': lon,\n",
    "                  'tp': tp,\n",
    "                  'api_key': api_key}\n",
    "    \n",
    "    api = '/premium/v1/marine.ashx?key={api_key}&format={format}&q={lat},{lon}&tide={tide}&tp={tp}'\\\n",
    "    .format(api_key = api_values['api_key'],\\\n",
    "            format = api_values['format'],\\\n",
    "            lat = api_values['lat'],\\\n",
    "            lon = api_values['lon'],\\\n",
    "            tide = api_values['tide'],\\\n",
    "            tp = api_values['tp'])\n",
    "    \n",
    "    url = base_url + api\n",
    "    response = requests.get(url)\n",
    "    json_text = response.json()\n",
    "    \n",
    "    json_string = json.dumps(json_text)\n",
    "    \n",
    "    return(json_string)"
   ]
  },
  {
   "cell_type": "code",
   "execution_count": 36,
   "metadata": {},
   "outputs": [],
   "source": [
    "def s3_load(bucket, access_key, secret_access_key, json_string):\n",
    "    utcs_now = datetime.utcnow().strftime('%Y%m%d_%H%M')\n",
    "    bucket = bucket\n",
    "    client = boto3.client('s3',\n",
    "                     aws_access_key_id = access_key,\n",
    "                     aws_secret_access_key = secret_access_key)\n",
    "    key = 'not_processed/surf_data_{}.json'.format(utcs_now)\n",
    "    client.put_object(Body = json_string, \n",
    "                  Bucket = bucket, \n",
    "                  Key = key)"
   ]
  },
  {
   "cell_type": "code",
   "execution_count": 46,
   "metadata": {},
   "outputs": [],
   "source": [
    "json_string = api_connection('yes', 'json', -0.763184, -90.332251, 1, api_key)\n",
    "s3_load('galapagos-surf-eu-west-2', access_key, secret_access_key, json_string)"
   ]
  },
  {
   "cell_type": "code",
   "execution_count": 51,
   "metadata": {},
   "outputs": [],
   "source": []
  },
  {
   "cell_type": "code",
   "execution_count": null,
   "metadata": {},
   "outputs": [],
   "source": []
  },
  {
   "cell_type": "markdown",
   "metadata": {},
   "source": [
    "## Processing files"
   ]
  },
  {
   "cell_type": "code",
   "execution_count": 227,
   "metadata": {},
   "outputs": [],
   "source": [
    "def list_not_processed_files(bucket, prefix, access_key, secret_access_key):\n",
    "    \"\"\"\n",
    "    Reading json files in bucket\n",
    "    \"\"\"\n",
    "    s3 = boto3.client('s3',\n",
    "                aws_access_key_id = access_key,\n",
    "                aws_secret_access_key = secret_access_key)\n",
    "    \n",
    "    bucket = bucket\n",
    "    prefix = prefix\n",
    "    files = []\n",
    "\n",
    "    for key in s3.list_objects(Bucket=bucket, Prefix = prefix)['Contents']:\n",
    "        files.append(key['Key'])\n",
    "    \n",
    "    return files"
   ]
  },
  {
   "cell_type": "code",
   "execution_count": 228,
   "metadata": {},
   "outputs": [],
   "source": [
    "not_processed = list_not_processed_files('galapagos-surf-eu-west-2', 'not_processed', access_key, secret_access_key)"
   ]
  },
  {
   "cell_type": "code",
   "execution_count": 229,
   "metadata": {},
   "outputs": [
    {
     "data": {
      "text/plain": [
       "['not_processed/surf_data_20220610_2237.json',\n",
       " 'not_processed/surf_data_20220610_2247.json',\n",
       " 'not_processed/surf_data_20220611_1638.json',\n",
       " 'not_processed/surf_data_20220612_1541.json']"
      ]
     },
     "execution_count": 229,
     "metadata": {},
     "output_type": "execute_result"
    }
   ],
   "source": [
    "not_processed"
   ]
  },
  {
   "cell_type": "code",
   "execution_count": 60,
   "metadata": {},
   "outputs": [],
   "source": [
    "s3 = boto3.client('s3',\n",
    "                    aws_access_key_id = access_key ,\n",
    "                    aws_secret_access_key = secret_access_key)\n",
    "\n",
    "response = s3.get_object(Bucket='galapagos-surf-eu-west-2', Key='not_processed/surf_data_20220610_2237.json')\n",
    "contentBody = response.get(\"Body\").read().decode('utf-8')"
   ]
  },
  {
   "cell_type": "code",
   "execution_count": 230,
   "metadata": {},
   "outputs": [],
   "source": [
    "surf_json = json.loads(contentBody)"
   ]
  },
  {
   "cell_type": "code",
   "execution_count": null,
   "metadata": {},
   "outputs": [],
   "source": []
  },
  {
   "cell_type": "code",
   "execution_count": 373,
   "metadata": {},
   "outputs": [],
   "source": [
    "content_object = s3.Object(bucket, 'not_processed/surf_data_20220610_2237.json')"
   ]
  },
  {
   "cell_type": "code",
   "execution_count": 374,
   "metadata": {},
   "outputs": [],
   "source": [
    "file_content = content_object.get()['Body'].read().decode('utf-8')\n",
    "json_content = json.loads(file_content)"
   ]
  },
  {
   "cell_type": "code",
   "execution_count": 376,
   "metadata": {},
   "outputs": [],
   "source": [
    "def surf_file_to_df(bucket, key):\n",
    "    response = s3.Object(bucket, key)\n",
    "    contentBody = response.get()['Body'].read().decode('utf-8')\n",
    "    surf_json = json.loads(contentBody)\n",
    "    df = pd.json_normalize(surf_json['data']['weather'], ['hourly'], ['date'])\n",
    "    df_upload = df[['date','time', 'tempC', 'tempF', 'windspeedMiles', 'windspeedKmph',\n",
    "               'winddirDegree', 'winddir16Point', 'weatherCode', 'visibility',\n",
    "               'visibilityMiles', 'sigHeight_m', 'swellHeight_m', 'swellHeight_ft',\n",
    "               'swellDir', 'swellDir16Point', 'swellPeriod_secs', 'waterTemp_C',\n",
    "               'waterTemp_F']]\n",
    "    return(df_upload)"
   ]
  },
  {
   "cell_type": "code",
   "execution_count": 377,
   "metadata": {},
   "outputs": [
    {
     "data": {
      "text/html": [
       "<div>\n",
       "<style scoped>\n",
       "    .dataframe tbody tr th:only-of-type {\n",
       "        vertical-align: middle;\n",
       "    }\n",
       "\n",
       "    .dataframe tbody tr th {\n",
       "        vertical-align: top;\n",
       "    }\n",
       "\n",
       "    .dataframe thead th {\n",
       "        text-align: right;\n",
       "    }\n",
       "</style>\n",
       "<table border=\"1\" class=\"dataframe\">\n",
       "  <thead>\n",
       "    <tr style=\"text-align: right;\">\n",
       "      <th></th>\n",
       "      <th>date</th>\n",
       "      <th>time</th>\n",
       "      <th>tempC</th>\n",
       "      <th>tempF</th>\n",
       "      <th>windspeedMiles</th>\n",
       "      <th>windspeedKmph</th>\n",
       "      <th>winddirDegree</th>\n",
       "      <th>winddir16Point</th>\n",
       "      <th>weatherCode</th>\n",
       "      <th>visibility</th>\n",
       "      <th>visibilityMiles</th>\n",
       "      <th>sigHeight_m</th>\n",
       "      <th>swellHeight_m</th>\n",
       "      <th>swellHeight_ft</th>\n",
       "      <th>swellDir</th>\n",
       "      <th>swellDir16Point</th>\n",
       "      <th>swellPeriod_secs</th>\n",
       "      <th>waterTemp_C</th>\n",
       "      <th>waterTemp_F</th>\n",
       "    </tr>\n",
       "  </thead>\n",
       "  <tbody>\n",
       "    <tr>\n",
       "      <th>0</th>\n",
       "      <td>2022-06-10</td>\n",
       "      <td>0</td>\n",
       "      <td>22</td>\n",
       "      <td>71</td>\n",
       "      <td>13</td>\n",
       "      <td>21</td>\n",
       "      <td>157</td>\n",
       "      <td>SSE</td>\n",
       "      <td>116</td>\n",
       "      <td>10</td>\n",
       "      <td>6</td>\n",
       "      <td>0.5</td>\n",
       "      <td>1.1</td>\n",
       "      <td>3.6</td>\n",
       "      <td>140</td>\n",
       "      <td>SE</td>\n",
       "      <td>9.5</td>\n",
       "      <td>21</td>\n",
       "      <td>70</td>\n",
       "    </tr>\n",
       "    <tr>\n",
       "      <th>1</th>\n",
       "      <td>2022-06-10</td>\n",
       "      <td>100</td>\n",
       "      <td>22</td>\n",
       "      <td>71</td>\n",
       "      <td>12</td>\n",
       "      <td>19</td>\n",
       "      <td>161</td>\n",
       "      <td>SSE</td>\n",
       "      <td>116</td>\n",
       "      <td>10</td>\n",
       "      <td>6</td>\n",
       "      <td>0.5</td>\n",
       "      <td>1.1</td>\n",
       "      <td>3.6</td>\n",
       "      <td>140</td>\n",
       "      <td>SE</td>\n",
       "      <td>9.4</td>\n",
       "      <td>23</td>\n",
       "      <td>73</td>\n",
       "    </tr>\n",
       "    <tr>\n",
       "      <th>2</th>\n",
       "      <td>2022-06-10</td>\n",
       "      <td>200</td>\n",
       "      <td>22</td>\n",
       "      <td>71</td>\n",
       "      <td>11</td>\n",
       "      <td>17</td>\n",
       "      <td>165</td>\n",
       "      <td>SSE</td>\n",
       "      <td>116</td>\n",
       "      <td>10</td>\n",
       "      <td>6</td>\n",
       "      <td>0.4</td>\n",
       "      <td>1.1</td>\n",
       "      <td>3.6</td>\n",
       "      <td>140</td>\n",
       "      <td>SE</td>\n",
       "      <td>9.3</td>\n",
       "      <td>23</td>\n",
       "      <td>73</td>\n",
       "    </tr>\n",
       "    <tr>\n",
       "      <th>3</th>\n",
       "      <td>2022-06-10</td>\n",
       "      <td>300</td>\n",
       "      <td>22</td>\n",
       "      <td>71</td>\n",
       "      <td>10</td>\n",
       "      <td>15</td>\n",
       "      <td>169</td>\n",
       "      <td>SSE</td>\n",
       "      <td>116</td>\n",
       "      <td>10</td>\n",
       "      <td>6</td>\n",
       "      <td>0.4</td>\n",
       "      <td>1.1</td>\n",
       "      <td>3.6</td>\n",
       "      <td>140</td>\n",
       "      <td>SE</td>\n",
       "      <td>9.2</td>\n",
       "      <td>21</td>\n",
       "      <td>70</td>\n",
       "    </tr>\n",
       "    <tr>\n",
       "      <th>4</th>\n",
       "      <td>2022-06-10</td>\n",
       "      <td>400</td>\n",
       "      <td>22</td>\n",
       "      <td>72</td>\n",
       "      <td>10</td>\n",
       "      <td>16</td>\n",
       "      <td>166</td>\n",
       "      <td>SSE</td>\n",
       "      <td>116</td>\n",
       "      <td>10</td>\n",
       "      <td>6</td>\n",
       "      <td>0.4</td>\n",
       "      <td>1.1</td>\n",
       "      <td>3.6</td>\n",
       "      <td>140</td>\n",
       "      <td>SE</td>\n",
       "      <td>9.2</td>\n",
       "      <td>23</td>\n",
       "      <td>73</td>\n",
       "    </tr>\n",
       "    <tr>\n",
       "      <th>...</th>\n",
       "      <td>...</td>\n",
       "      <td>...</td>\n",
       "      <td>...</td>\n",
       "      <td>...</td>\n",
       "      <td>...</td>\n",
       "      <td>...</td>\n",
       "      <td>...</td>\n",
       "      <td>...</td>\n",
       "      <td>...</td>\n",
       "      <td>...</td>\n",
       "      <td>...</td>\n",
       "      <td>...</td>\n",
       "      <td>...</td>\n",
       "      <td>...</td>\n",
       "      <td>...</td>\n",
       "      <td>...</td>\n",
       "      <td>...</td>\n",
       "      <td>...</td>\n",
       "      <td>...</td>\n",
       "    </tr>\n",
       "    <tr>\n",
       "      <th>163</th>\n",
       "      <td>2022-06-16</td>\n",
       "      <td>1900</td>\n",
       "      <td>22</td>\n",
       "      <td>71</td>\n",
       "      <td>15</td>\n",
       "      <td>24</td>\n",
       "      <td>164</td>\n",
       "      <td>SSE</td>\n",
       "      <td>113</td>\n",
       "      <td>10</td>\n",
       "      <td>6</td>\n",
       "      <td>0.6</td>\n",
       "      <td>1.1</td>\n",
       "      <td>3.6</td>\n",
       "      <td>240</td>\n",
       "      <td>WSW</td>\n",
       "      <td>12.3</td>\n",
       "      <td>23</td>\n",
       "      <td>73</td>\n",
       "    </tr>\n",
       "    <tr>\n",
       "      <th>164</th>\n",
       "      <td>2022-06-16</td>\n",
       "      <td>2000</td>\n",
       "      <td>22</td>\n",
       "      <td>71</td>\n",
       "      <td>15</td>\n",
       "      <td>24</td>\n",
       "      <td>165</td>\n",
       "      <td>SSE</td>\n",
       "      <td>113</td>\n",
       "      <td>10</td>\n",
       "      <td>6</td>\n",
       "      <td>0.6</td>\n",
       "      <td>1.1</td>\n",
       "      <td>3.6</td>\n",
       "      <td>200</td>\n",
       "      <td>SSW</td>\n",
       "      <td>12.2</td>\n",
       "      <td>23</td>\n",
       "      <td>73</td>\n",
       "    </tr>\n",
       "    <tr>\n",
       "      <th>165</th>\n",
       "      <td>2022-06-16</td>\n",
       "      <td>2100</td>\n",
       "      <td>22</td>\n",
       "      <td>71</td>\n",
       "      <td>15</td>\n",
       "      <td>24</td>\n",
       "      <td>165</td>\n",
       "      <td>SSE</td>\n",
       "      <td>116</td>\n",
       "      <td>10</td>\n",
       "      <td>6</td>\n",
       "      <td>0.6</td>\n",
       "      <td>1.1</td>\n",
       "      <td>3.6</td>\n",
       "      <td>160</td>\n",
       "      <td>SSE</td>\n",
       "      <td>12.2</td>\n",
       "      <td>21</td>\n",
       "      <td>70</td>\n",
       "    </tr>\n",
       "    <tr>\n",
       "      <th>166</th>\n",
       "      <td>2022-06-16</td>\n",
       "      <td>2200</td>\n",
       "      <td>22</td>\n",
       "      <td>71</td>\n",
       "      <td>15</td>\n",
       "      <td>24</td>\n",
       "      <td>164</td>\n",
       "      <td>SSE</td>\n",
       "      <td>116</td>\n",
       "      <td>10</td>\n",
       "      <td>6</td>\n",
       "      <td>0.6</td>\n",
       "      <td>1.1</td>\n",
       "      <td>3.6</td>\n",
       "      <td>200</td>\n",
       "      <td>SSW</td>\n",
       "      <td>12.2</td>\n",
       "      <td>23</td>\n",
       "      <td>73</td>\n",
       "    </tr>\n",
       "    <tr>\n",
       "      <th>167</th>\n",
       "      <td>2022-06-16</td>\n",
       "      <td>2300</td>\n",
       "      <td>22</td>\n",
       "      <td>71</td>\n",
       "      <td>15</td>\n",
       "      <td>24</td>\n",
       "      <td>164</td>\n",
       "      <td>SSE</td>\n",
       "      <td>113</td>\n",
       "      <td>10</td>\n",
       "      <td>6</td>\n",
       "      <td>0.6</td>\n",
       "      <td>1.1</td>\n",
       "      <td>3.6</td>\n",
       "      <td>240</td>\n",
       "      <td>WSW</td>\n",
       "      <td>12.1</td>\n",
       "      <td>23</td>\n",
       "      <td>73</td>\n",
       "    </tr>\n",
       "  </tbody>\n",
       "</table>\n",
       "<p>168 rows × 19 columns</p>\n",
       "</div>"
      ],
      "text/plain": [
       "           date  time tempC tempF windspeedMiles windspeedKmph winddirDegree  \\\n",
       "0    2022-06-10     0    22    71             13            21           157   \n",
       "1    2022-06-10   100    22    71             12            19           161   \n",
       "2    2022-06-10   200    22    71             11            17           165   \n",
       "3    2022-06-10   300    22    71             10            15           169   \n",
       "4    2022-06-10   400    22    72             10            16           166   \n",
       "..          ...   ...   ...   ...            ...           ...           ...   \n",
       "163  2022-06-16  1900    22    71             15            24           164   \n",
       "164  2022-06-16  2000    22    71             15            24           165   \n",
       "165  2022-06-16  2100    22    71             15            24           165   \n",
       "166  2022-06-16  2200    22    71             15            24           164   \n",
       "167  2022-06-16  2300    22    71             15            24           164   \n",
       "\n",
       "    winddir16Point weatherCode visibility visibilityMiles sigHeight_m  \\\n",
       "0              SSE         116         10               6         0.5   \n",
       "1              SSE         116         10               6         0.5   \n",
       "2              SSE         116         10               6         0.4   \n",
       "3              SSE         116         10               6         0.4   \n",
       "4              SSE         116         10               6         0.4   \n",
       "..             ...         ...        ...             ...         ...   \n",
       "163            SSE         113         10               6         0.6   \n",
       "164            SSE         113         10               6         0.6   \n",
       "165            SSE         116         10               6         0.6   \n",
       "166            SSE         116         10               6         0.6   \n",
       "167            SSE         113         10               6         0.6   \n",
       "\n",
       "    swellHeight_m swellHeight_ft swellDir swellDir16Point swellPeriod_secs  \\\n",
       "0             1.1            3.6      140              SE              9.5   \n",
       "1             1.1            3.6      140              SE              9.4   \n",
       "2             1.1            3.6      140              SE              9.3   \n",
       "3             1.1            3.6      140              SE              9.2   \n",
       "4             1.1            3.6      140              SE              9.2   \n",
       "..            ...            ...      ...             ...              ...   \n",
       "163           1.1            3.6      240             WSW             12.3   \n",
       "164           1.1            3.6      200             SSW             12.2   \n",
       "165           1.1            3.6      160             SSE             12.2   \n",
       "166           1.1            3.6      200             SSW             12.2   \n",
       "167           1.1            3.6      240             WSW             12.1   \n",
       "\n",
       "    waterTemp_C waterTemp_F  \n",
       "0            21          70  \n",
       "1            23          73  \n",
       "2            23          73  \n",
       "3            21          70  \n",
       "4            23          73  \n",
       "..          ...         ...  \n",
       "163          23          73  \n",
       "164          23          73  \n",
       "165          21          70  \n",
       "166          23          73  \n",
       "167          23          73  \n",
       "\n",
       "[168 rows x 19 columns]"
      ]
     },
     "execution_count": 377,
     "metadata": {},
     "output_type": "execute_result"
    }
   ],
   "source": [
    "surf_file_to_df(bucket, 'not_processed/surf_data_20220610_2237.json')"
   ]
  },
  {
   "cell_type": "code",
   "execution_count": null,
   "metadata": {},
   "outputs": [],
   "source": []
  },
  {
   "cell_type": "code",
   "execution_count": null,
   "metadata": {},
   "outputs": [],
   "source": []
  },
  {
   "cell_type": "code",
   "execution_count": 232,
   "metadata": {},
   "outputs": [],
   "source": [
    "df = pd.json_normalize(surf_json['data']['weather'], ['hourly'], ['date'])"
   ]
  },
  {
   "cell_type": "code",
   "execution_count": 254,
   "metadata": {},
   "outputs": [],
   "source": [
    "df_upload = df[['date','time', 'tempC', 'tempF', 'windspeedMiles', 'windspeedKmph',\n",
    "               'winddirDegree', 'winddir16Point', 'weatherCode', 'visibility',\n",
    "               'visibilityMiles', 'sigHeight_m', 'swellHeight_m', 'swellHeight_ft',\n",
    "               'swellDir', 'swellDir16Point', 'swellPeriod_secs', 'waterTemp_C',\n",
    "               'waterTemp_F']]"
   ]
  },
  {
   "cell_type": "code",
   "execution_count": null,
   "metadata": {},
   "outputs": [],
   "source": []
  },
  {
   "cell_type": "code",
   "execution_count": null,
   "metadata": {},
   "outputs": [],
   "source": []
  },
  {
   "cell_type": "code",
   "execution_count": 330,
   "metadata": {},
   "outputs": [],
   "source": [
    "import pandas as pd\n",
    "from sqlalchemy import create_engine, text"
   ]
  },
  {
   "cell_type": "code",
   "execution_count": 331,
   "metadata": {},
   "outputs": [],
   "source": [
    "username = *\n",
    "password_db = *\n",
    "host = *\n",
    "port = *\n",
    "dbname = *\n",
    "\n",
    "engine = create_engine('postgresql://{username}:{password_db}@{host}:{port}/{dbname}'.format(username = username,\\\n",
    "                                                                                            password_db = password_db,\\\n",
    "                                                                                            host = host,\\\n",
    "                                                                                            port = port,\\\n",
    "                                                                                            dbname = dbname))"
   ]
  },
  {
   "cell_type": "code",
   "execution_count": 335,
   "metadata": {},
   "outputs": [],
   "source": [
    "df_upload.to_sql('temp_raw', con=engine)"
   ]
  },
  {
   "cell_type": "code",
   "execution_count": 336,
   "metadata": {},
   "outputs": [
    {
     "data": {
      "text/plain": [
       "<sqlalchemy.engine.result.ResultProxy at 0x7f79d753d490>"
      ]
     },
     "execution_count": 336,
     "metadata": {},
     "output_type": "execute_result"
    }
   ],
   "source": [
    "query1 = \"\"\"\n",
    "INSERT INTO galapagos.tortuga_bay_raw (date, time, tempc, tempf, windspeedmiles, windspeedkmph,\n",
    "winddirdegree, winddir16point, weathercode, visibilitykm, visibilitymiles, sigheight_m, swellheight_m,\\\n",
    "swellheight_ft, swelldir, swelldir16point, swellperiods_secs, watertempc, watertempf) \\\n",
    "SELECT \"date\"::date, \"time\"::int, \"tempC\"::int, \"tempF\"::int, \"windspeedMiles\"::int, \"windspeedKmph\"::int, \\\n",
    "\"winddirDegree\"::int, \"winddir16Point\", \"weatherCode\"::int, \"visibility\"::int, \"visibilityMiles\"::int, \\\n",
    "\"sigHeight_m\"::float, \"swellHeight_m\"::float, \"swellHeight_ft\"::float,\"swellDir\"::int,\\\n",
    "\"swellDir16Point\", \"swellPeriod_secs\"::float, \"waterTemp_C\"::int, \"waterTemp_F\"::int from public.temp_raw\n",
    "\n",
    "ON CONFLICT (date, time) DO \\\n",
    "\n",
    "UPDATE SET tempc = EXCLUDED.tempC, tempf = EXCLUDED.tempF, windspeedmiles = EXCLUDED.windspeedMiles, \\\n",
    "windspeedkmph = EXCLUDED.windspeedKmph, winddirdegree = EXCLUDED.winddirDegree, \\\n",
    "winddir16point = EXCLUDED.winddir16Point, weathercode = EXCLUDED.weatherCode, visibilitykm = EXCLUDED.visibilitykm, \\\n",
    "visibilitymiles = EXCLUDED.visibilityMiles, sigheight_m = EXCLUDED.sigHeight_m, swellheight_m = EXCLUDED.swellHeight_m, \\\n",
    "swellheight_ft = EXCLUDED.swellHeight_ft, swelldir = EXCLUDED.swellDir, swelldir16point = EXCLUDED.swellDir16Point, \\\n",
    "swellperiods_secs = EXCLUDED.swellperiods_secs, watertempc = EXCLUDED.watertempc, watertempf = EXCLUDED.watertempf;\n",
    "\"\"\"\n",
    "\n",
    "engine.execute(query1)"
   ]
  },
  {
   "cell_type": "code",
   "execution_count": 337,
   "metadata": {},
   "outputs": [
    {
     "data": {
      "text/plain": [
       "<sqlalchemy.engine.result.ResultProxy at 0x7f79d6d81160>"
      ]
     },
     "execution_count": 337,
     "metadata": {},
     "output_type": "execute_result"
    }
   ],
   "source": [
    "engine.execute(query2)"
   ]
  },
  {
   "cell_type": "code",
   "execution_count": null,
   "metadata": {},
   "outputs": [],
   "source": [
    "def moving_s3_file(bucket, old_prefix, new_prefix, file_name):\n",
    "    \n",
    "    old_name = \"{0}/{1}/{2}\".format(bucket, old_prefix, file_name)\n",
    "    \n",
    "    old_key = \"{0}/{1}\".format(old_prefix, file_name)\n",
    "    new_key = \"{0}/{1}\".format(new_prefix, file_name)\n",
    "    \n",
    "    s3.Object(bucket, new_key).copy_from(CopySource=old_name)\n",
    "    s3.Object(bucket,'old_file_key').delete()"
   ]
  },
  {
   "cell_type": "code",
   "execution_count": null,
   "metadata": {},
   "outputs": [],
   "source": []
  },
  {
   "cell_type": "code",
   "execution_count": 342,
   "metadata": {},
   "outputs": [],
   "source": [
    "file = 'not_processed/surf_data_20220610_2237.json'\n",
    "file_name = file.split('/')[-1]"
   ]
  },
  {
   "cell_type": "code",
   "execution_count": 343,
   "metadata": {},
   "outputs": [
    {
     "data": {
      "text/plain": [
       "'surf_data_20220610_2237.json'"
      ]
     },
     "execution_count": 343,
     "metadata": {},
     "output_type": "execute_result"
    }
   ],
   "source": [
    "file_name"
   ]
  },
  {
   "cell_type": "code",
   "execution_count": 349,
   "metadata": {},
   "outputs": [],
   "source": [
    "bucket = 'galapagos-surf-eu-west-2'\n",
    "old_prefix = 'not_processed'\n",
    "new_prefix = 'processed'"
   ]
  },
  {
   "cell_type": "code",
   "execution_count": 350,
   "metadata": {},
   "outputs": [],
   "source": [
    "old_name = \"{0}/{1}/{2}\".format(bucket, old_prefix, file_name)\n",
    "\n",
    "new_name = \"{0}/{1}/{2}\".format(bucket, new_prefix, file_name)\n",
    "new_key = \"{0}/{1}\".format(new_prefix, file_name)"
   ]
  },
  {
   "cell_type": "code",
   "execution_count": 351,
   "metadata": {},
   "outputs": [
    {
     "data": {
      "text/plain": [
       "'processed/surf_data_20220610_2237.json'"
      ]
     },
     "execution_count": 351,
     "metadata": {},
     "output_type": "execute_result"
    }
   ],
   "source": [
    "new_key"
   ]
  },
  {
   "cell_type": "code",
   "execution_count": 360,
   "metadata": {},
   "outputs": [
    {
     "data": {
      "text/plain": [
       "{'ResponseMetadata': {'RequestId': 'WBG0Y99BQZQKCWF0',\n",
       "  'HostId': 'utvV5rO3N1wq97XXI6jVYwU6Y6gcnorfy8v9iSHXMjO0ByZx2aZxnoW4WC7MQKrUPUmxH1JO8i8=',\n",
       "  'HTTPStatusCode': 200,\n",
       "  'HTTPHeaders': {'x-amz-id-2': 'utvV5rO3N1wq97XXI6jVYwU6Y6gcnorfy8v9iSHXMjO0ByZx2aZxnoW4WC7MQKrUPUmxH1JO8i8=',\n",
       "   'x-amz-request-id': 'WBG0Y99BQZQKCWF0',\n",
       "   'date': 'Wed, 15 Jun 2022 22:35:11 GMT',\n",
       "   'content-type': 'application/xml',\n",
       "   'server': 'AmazonS3',\n",
       "   'content-length': '234'},\n",
       "  'RetryAttempts': 1},\n",
       " 'CopyObjectResult': {'ETag': '\"c032a8064782db96ac467cd551588345\"',\n",
       "  'LastModified': datetime.datetime(2022, 6, 15, 22, 35, 11, tzinfo=tzutc())}}"
      ]
     },
     "execution_count": 360,
     "metadata": {},
     "output_type": "execute_result"
    }
   ],
   "source": [
    "s3.Object(bucket, new_key).copy_from(CopySource=old_name)"
   ]
  },
  {
   "cell_type": "code",
   "execution_count": null,
   "metadata": {},
   "outputs": [],
   "source": [
    "s3.Object('my_bucket','old_file_key').delete()"
   ]
  },
  {
   "cell_type": "code",
   "execution_count": 359,
   "metadata": {},
   "outputs": [],
   "source": [
    "s3 = boto3.resource('s3',\n",
    "                    aws_access_key_id = access_key,\n",
    "                    aws_secret_access_key = secret_access_key"
   ]
  },
  {
   "cell_type": "code",
   "execution_count": 368,
   "metadata": {},
   "outputs": [],
   "source": [
    "not_processed = list_not_processed_files('galapagos-surf-eu-west-2', 'not_processed', access_key, secret_access_key)"
   ]
  },
  {
   "cell_type": "code",
   "execution_count": 369,
   "metadata": {},
   "outputs": [
    {
     "data": {
      "text/plain": [
       "['not_processed/surf_data_20220610_2237.json',\n",
       " 'not_processed/surf_data_20220610_2247.json',\n",
       " 'not_processed/surf_data_20220611_1638.json',\n",
       " 'not_processed/surf_data_20220612_1541.json',\n",
       " 'not_processed/surf_data_20220613_2126.json',\n",
       " 'not_processed/surf_data_20220614_1928.json',\n",
       " 'not_processed/surf_data_20220615_2143.json']"
      ]
     },
     "execution_count": 369,
     "metadata": {},
     "output_type": "execute_result"
    }
   ],
   "source": [
    "not_processed"
   ]
  },
  {
   "cell_type": "code",
   "execution_count": null,
   "metadata": {},
   "outputs": [],
   "source": []
  },
  {
   "cell_type": "code",
   "execution_count": null,
   "metadata": {},
   "outputs": [],
   "source": []
  }
 ],
 "metadata": {
  "kernelspec": {
   "display_name": "Python 3",
   "language": "python",
   "name": "python3"
  },
  "language_info": {
   "codemirror_mode": {
    "name": "ipython",
    "version": 3
   },
   "file_extension": ".py",
   "mimetype": "text/x-python",
   "name": "python",
   "nbconvert_exporter": "python",
   "pygments_lexer": "ipython3",
   "version": "3.8.5"
  }
 },
 "nbformat": 4,
 "nbformat_minor": 4
}
