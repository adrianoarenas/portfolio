{
  "nbformat": 4,
  "nbformat_minor": 0,
  "metadata": {
    "kernelspec": {
      "display_name": "Python 3",
      "language": "python",
      "name": "python3"
    },
    "language_info": {
      "codemirror_mode": {
        "name": "ipython",
        "version": 3
      },
      "file_extension": ".py",
      "mimetype": "text/x-python",
      "name": "python",
      "nbconvert_exporter": "python",
      "pygments_lexer": "ipython3",
      "version": "3.8.5"
    },
    "colab": {
      "name": "Portfolio NLP.ipynb",
      "provenance": [],
      "collapsed_sections": [],
      "machine_shape": "hm"
    },
    "accelerator": "GPU",
    "widgets": {
      "application/vnd.jupyter.widget-state+json": {
        "8c7e9cbdfe3b431089367b58a20fb8f5": {
          "model_module": "@jupyter-widgets/controls",
          "model_name": "HBoxModel",
          "state": {
            "_view_name": "HBoxView",
            "_dom_classes": [],
            "_model_name": "HBoxModel",
            "_view_module": "@jupyter-widgets/controls",
            "_model_module_version": "1.5.0",
            "_view_count": null,
            "_view_module_version": "1.5.0",
            "box_style": "",
            "layout": "IPY_MODEL_0fcc5a097bb6487684fc9dd1a11c57e8",
            "_model_module": "@jupyter-widgets/controls",
            "children": [
              "IPY_MODEL_28ea72c4c68d4807a6c90fdfc6423748",
              "IPY_MODEL_37fd60064b0747feadfee272cffd8c73"
            ]
          }
        },
        "0fcc5a097bb6487684fc9dd1a11c57e8": {
          "model_module": "@jupyter-widgets/base",
          "model_name": "LayoutModel",
          "state": {
            "_view_name": "LayoutView",
            "grid_template_rows": null,
            "right": null,
            "justify_content": null,
            "_view_module": "@jupyter-widgets/base",
            "overflow": null,
            "_model_module_version": "1.2.0",
            "_view_count": null,
            "flex_flow": null,
            "width": null,
            "min_width": null,
            "border": null,
            "align_items": null,
            "bottom": null,
            "_model_module": "@jupyter-widgets/base",
            "top": null,
            "grid_column": null,
            "overflow_y": null,
            "overflow_x": null,
            "grid_auto_flow": null,
            "grid_area": null,
            "grid_template_columns": null,
            "flex": null,
            "_model_name": "LayoutModel",
            "justify_items": null,
            "grid_row": null,
            "max_height": null,
            "align_content": null,
            "visibility": null,
            "align_self": null,
            "height": null,
            "min_height": null,
            "padding": null,
            "grid_auto_rows": null,
            "grid_gap": null,
            "max_width": null,
            "order": null,
            "_view_module_version": "1.2.0",
            "grid_template_areas": null,
            "object_position": null,
            "object_fit": null,
            "grid_auto_columns": null,
            "margin": null,
            "display": null,
            "left": null
          }
        },
        "28ea72c4c68d4807a6c90fdfc6423748": {
          "model_module": "@jupyter-widgets/controls",
          "model_name": "FloatProgressModel",
          "state": {
            "_view_name": "ProgressView",
            "style": "IPY_MODEL_86f6df4ba066477fac0244576be7eb4f",
            "_dom_classes": [],
            "description": "Downloading: 100%",
            "_model_name": "FloatProgressModel",
            "bar_style": "success",
            "max": 231508,
            "_view_module": "@jupyter-widgets/controls",
            "_model_module_version": "1.5.0",
            "value": 231508,
            "_view_count": null,
            "_view_module_version": "1.5.0",
            "orientation": "horizontal",
            "min": 0,
            "description_tooltip": null,
            "_model_module": "@jupyter-widgets/controls",
            "layout": "IPY_MODEL_48470ab2999749a4b1b50314d9141e16"
          }
        },
        "37fd60064b0747feadfee272cffd8c73": {
          "model_module": "@jupyter-widgets/controls",
          "model_name": "HTMLModel",
          "state": {
            "_view_name": "HTMLView",
            "style": "IPY_MODEL_03a47ab6e74146f8a7bc5bb67b450a34",
            "_dom_classes": [],
            "description": "",
            "_model_name": "HTMLModel",
            "placeholder": "​",
            "_view_module": "@jupyter-widgets/controls",
            "_model_module_version": "1.5.0",
            "value": " 232k/232k [00:02&lt;00:00, 94.8kB/s]",
            "_view_count": null,
            "_view_module_version": "1.5.0",
            "description_tooltip": null,
            "_model_module": "@jupyter-widgets/controls",
            "layout": "IPY_MODEL_0a2b2c58673f41f1bdbb77bcfe03746c"
          }
        },
        "86f6df4ba066477fac0244576be7eb4f": {
          "model_module": "@jupyter-widgets/controls",
          "model_name": "ProgressStyleModel",
          "state": {
            "_view_name": "StyleView",
            "_model_name": "ProgressStyleModel",
            "description_width": "initial",
            "_view_module": "@jupyter-widgets/base",
            "_model_module_version": "1.5.0",
            "_view_count": null,
            "_view_module_version": "1.2.0",
            "bar_color": null,
            "_model_module": "@jupyter-widgets/controls"
          }
        },
        "48470ab2999749a4b1b50314d9141e16": {
          "model_module": "@jupyter-widgets/base",
          "model_name": "LayoutModel",
          "state": {
            "_view_name": "LayoutView",
            "grid_template_rows": null,
            "right": null,
            "justify_content": null,
            "_view_module": "@jupyter-widgets/base",
            "overflow": null,
            "_model_module_version": "1.2.0",
            "_view_count": null,
            "flex_flow": null,
            "width": null,
            "min_width": null,
            "border": null,
            "align_items": null,
            "bottom": null,
            "_model_module": "@jupyter-widgets/base",
            "top": null,
            "grid_column": null,
            "overflow_y": null,
            "overflow_x": null,
            "grid_auto_flow": null,
            "grid_area": null,
            "grid_template_columns": null,
            "flex": null,
            "_model_name": "LayoutModel",
            "justify_items": null,
            "grid_row": null,
            "max_height": null,
            "align_content": null,
            "visibility": null,
            "align_self": null,
            "height": null,
            "min_height": null,
            "padding": null,
            "grid_auto_rows": null,
            "grid_gap": null,
            "max_width": null,
            "order": null,
            "_view_module_version": "1.2.0",
            "grid_template_areas": null,
            "object_position": null,
            "object_fit": null,
            "grid_auto_columns": null,
            "margin": null,
            "display": null,
            "left": null
          }
        },
        "03a47ab6e74146f8a7bc5bb67b450a34": {
          "model_module": "@jupyter-widgets/controls",
          "model_name": "DescriptionStyleModel",
          "state": {
            "_view_name": "StyleView",
            "_model_name": "DescriptionStyleModel",
            "description_width": "",
            "_view_module": "@jupyter-widgets/base",
            "_model_module_version": "1.5.0",
            "_view_count": null,
            "_view_module_version": "1.2.0",
            "_model_module": "@jupyter-widgets/controls"
          }
        },
        "0a2b2c58673f41f1bdbb77bcfe03746c": {
          "model_module": "@jupyter-widgets/base",
          "model_name": "LayoutModel",
          "state": {
            "_view_name": "LayoutView",
            "grid_template_rows": null,
            "right": null,
            "justify_content": null,
            "_view_module": "@jupyter-widgets/base",
            "overflow": null,
            "_model_module_version": "1.2.0",
            "_view_count": null,
            "flex_flow": null,
            "width": null,
            "min_width": null,
            "border": null,
            "align_items": null,
            "bottom": null,
            "_model_module": "@jupyter-widgets/base",
            "top": null,
            "grid_column": null,
            "overflow_y": null,
            "overflow_x": null,
            "grid_auto_flow": null,
            "grid_area": null,
            "grid_template_columns": null,
            "flex": null,
            "_model_name": "LayoutModel",
            "justify_items": null,
            "grid_row": null,
            "max_height": null,
            "align_content": null,
            "visibility": null,
            "align_self": null,
            "height": null,
            "min_height": null,
            "padding": null,
            "grid_auto_rows": null,
            "grid_gap": null,
            "max_width": null,
            "order": null,
            "_view_module_version": "1.2.0",
            "grid_template_areas": null,
            "object_position": null,
            "object_fit": null,
            "grid_auto_columns": null,
            "margin": null,
            "display": null,
            "left": null
          }
        },
        "82089557ce0a4525b69aca8c5cf78946": {
          "model_module": "@jupyter-widgets/controls",
          "model_name": "HBoxModel",
          "state": {
            "_view_name": "HBoxView",
            "_dom_classes": [],
            "_model_name": "HBoxModel",
            "_view_module": "@jupyter-widgets/controls",
            "_model_module_version": "1.5.0",
            "_view_count": null,
            "_view_module_version": "1.5.0",
            "box_style": "",
            "layout": "IPY_MODEL_5ace0e9be9db40f196a8538bfcabaa96",
            "_model_module": "@jupyter-widgets/controls",
            "children": [
              "IPY_MODEL_d72b5556469c440bb0e5cbb29b0f6c24",
              "IPY_MODEL_6f962f553e23404d80ecbf84038a48f3"
            ]
          }
        },
        "5ace0e9be9db40f196a8538bfcabaa96": {
          "model_module": "@jupyter-widgets/base",
          "model_name": "LayoutModel",
          "state": {
            "_view_name": "LayoutView",
            "grid_template_rows": null,
            "right": null,
            "justify_content": null,
            "_view_module": "@jupyter-widgets/base",
            "overflow": null,
            "_model_module_version": "1.2.0",
            "_view_count": null,
            "flex_flow": null,
            "width": null,
            "min_width": null,
            "border": null,
            "align_items": null,
            "bottom": null,
            "_model_module": "@jupyter-widgets/base",
            "top": null,
            "grid_column": null,
            "overflow_y": null,
            "overflow_x": null,
            "grid_auto_flow": null,
            "grid_area": null,
            "grid_template_columns": null,
            "flex": null,
            "_model_name": "LayoutModel",
            "justify_items": null,
            "grid_row": null,
            "max_height": null,
            "align_content": null,
            "visibility": null,
            "align_self": null,
            "height": null,
            "min_height": null,
            "padding": null,
            "grid_auto_rows": null,
            "grid_gap": null,
            "max_width": null,
            "order": null,
            "_view_module_version": "1.2.0",
            "grid_template_areas": null,
            "object_position": null,
            "object_fit": null,
            "grid_auto_columns": null,
            "margin": null,
            "display": null,
            "left": null
          }
        },
        "d72b5556469c440bb0e5cbb29b0f6c24": {
          "model_module": "@jupyter-widgets/controls",
          "model_name": "FloatProgressModel",
          "state": {
            "_view_name": "ProgressView",
            "style": "IPY_MODEL_dc47063358044c538801aa564a663245",
            "_dom_classes": [],
            "description": "Downloading: 100%",
            "_model_name": "FloatProgressModel",
            "bar_style": "success",
            "max": 28,
            "_view_module": "@jupyter-widgets/controls",
            "_model_module_version": "1.5.0",
            "value": 28,
            "_view_count": null,
            "_view_module_version": "1.5.0",
            "orientation": "horizontal",
            "min": 0,
            "description_tooltip": null,
            "_model_module": "@jupyter-widgets/controls",
            "layout": "IPY_MODEL_72e28feb76d742f8b6b5a72f2915118a"
          }
        },
        "6f962f553e23404d80ecbf84038a48f3": {
          "model_module": "@jupyter-widgets/controls",
          "model_name": "HTMLModel",
          "state": {
            "_view_name": "HTMLView",
            "style": "IPY_MODEL_f9c010b7379b4e729d252c02e8f5c3cb",
            "_dom_classes": [],
            "description": "",
            "_model_name": "HTMLModel",
            "placeholder": "​",
            "_view_module": "@jupyter-widgets/controls",
            "_model_module_version": "1.5.0",
            "value": " 28.0/28.0 [00:00&lt;00:00, 47.9B/s]",
            "_view_count": null,
            "_view_module_version": "1.5.0",
            "description_tooltip": null,
            "_model_module": "@jupyter-widgets/controls",
            "layout": "IPY_MODEL_7203fb2fe56246c2979a4e68f7ab6538"
          }
        },
        "dc47063358044c538801aa564a663245": {
          "model_module": "@jupyter-widgets/controls",
          "model_name": "ProgressStyleModel",
          "state": {
            "_view_name": "StyleView",
            "_model_name": "ProgressStyleModel",
            "description_width": "initial",
            "_view_module": "@jupyter-widgets/base",
            "_model_module_version": "1.5.0",
            "_view_count": null,
            "_view_module_version": "1.2.0",
            "bar_color": null,
            "_model_module": "@jupyter-widgets/controls"
          }
        },
        "72e28feb76d742f8b6b5a72f2915118a": {
          "model_module": "@jupyter-widgets/base",
          "model_name": "LayoutModel",
          "state": {
            "_view_name": "LayoutView",
            "grid_template_rows": null,
            "right": null,
            "justify_content": null,
            "_view_module": "@jupyter-widgets/base",
            "overflow": null,
            "_model_module_version": "1.2.0",
            "_view_count": null,
            "flex_flow": null,
            "width": null,
            "min_width": null,
            "border": null,
            "align_items": null,
            "bottom": null,
            "_model_module": "@jupyter-widgets/base",
            "top": null,
            "grid_column": null,
            "overflow_y": null,
            "overflow_x": null,
            "grid_auto_flow": null,
            "grid_area": null,
            "grid_template_columns": null,
            "flex": null,
            "_model_name": "LayoutModel",
            "justify_items": null,
            "grid_row": null,
            "max_height": null,
            "align_content": null,
            "visibility": null,
            "align_self": null,
            "height": null,
            "min_height": null,
            "padding": null,
            "grid_auto_rows": null,
            "grid_gap": null,
            "max_width": null,
            "order": null,
            "_view_module_version": "1.2.0",
            "grid_template_areas": null,
            "object_position": null,
            "object_fit": null,
            "grid_auto_columns": null,
            "margin": null,
            "display": null,
            "left": null
          }
        },
        "f9c010b7379b4e729d252c02e8f5c3cb": {
          "model_module": "@jupyter-widgets/controls",
          "model_name": "DescriptionStyleModel",
          "state": {
            "_view_name": "StyleView",
            "_model_name": "DescriptionStyleModel",
            "description_width": "",
            "_view_module": "@jupyter-widgets/base",
            "_model_module_version": "1.5.0",
            "_view_count": null,
            "_view_module_version": "1.2.0",
            "_model_module": "@jupyter-widgets/controls"
          }
        },
        "7203fb2fe56246c2979a4e68f7ab6538": {
          "model_module": "@jupyter-widgets/base",
          "model_name": "LayoutModel",
          "state": {
            "_view_name": "LayoutView",
            "grid_template_rows": null,
            "right": null,
            "justify_content": null,
            "_view_module": "@jupyter-widgets/base",
            "overflow": null,
            "_model_module_version": "1.2.0",
            "_view_count": null,
            "flex_flow": null,
            "width": null,
            "min_width": null,
            "border": null,
            "align_items": null,
            "bottom": null,
            "_model_module": "@jupyter-widgets/base",
            "top": null,
            "grid_column": null,
            "overflow_y": null,
            "overflow_x": null,
            "grid_auto_flow": null,
            "grid_area": null,
            "grid_template_columns": null,
            "flex": null,
            "_model_name": "LayoutModel",
            "justify_items": null,
            "grid_row": null,
            "max_height": null,
            "align_content": null,
            "visibility": null,
            "align_self": null,
            "height": null,
            "min_height": null,
            "padding": null,
            "grid_auto_rows": null,
            "grid_gap": null,
            "max_width": null,
            "order": null,
            "_view_module_version": "1.2.0",
            "grid_template_areas": null,
            "object_position": null,
            "object_fit": null,
            "grid_auto_columns": null,
            "margin": null,
            "display": null,
            "left": null
          }
        },
        "3b67436c28104b82b543f92cc99fecb4": {
          "model_module": "@jupyter-widgets/controls",
          "model_name": "HBoxModel",
          "state": {
            "_view_name": "HBoxView",
            "_dom_classes": [],
            "_model_name": "HBoxModel",
            "_view_module": "@jupyter-widgets/controls",
            "_model_module_version": "1.5.0",
            "_view_count": null,
            "_view_module_version": "1.5.0",
            "box_style": "",
            "layout": "IPY_MODEL_0714d9e6cf544c5d903488ed9b154701",
            "_model_module": "@jupyter-widgets/controls",
            "children": [
              "IPY_MODEL_6f7d6c07c8c84596821b3c98517ede94",
              "IPY_MODEL_1ff435b13e714043988b630431bb1003"
            ]
          }
        },
        "0714d9e6cf544c5d903488ed9b154701": {
          "model_module": "@jupyter-widgets/base",
          "model_name": "LayoutModel",
          "state": {
            "_view_name": "LayoutView",
            "grid_template_rows": null,
            "right": null,
            "justify_content": null,
            "_view_module": "@jupyter-widgets/base",
            "overflow": null,
            "_model_module_version": "1.2.0",
            "_view_count": null,
            "flex_flow": null,
            "width": null,
            "min_width": null,
            "border": null,
            "align_items": null,
            "bottom": null,
            "_model_module": "@jupyter-widgets/base",
            "top": null,
            "grid_column": null,
            "overflow_y": null,
            "overflow_x": null,
            "grid_auto_flow": null,
            "grid_area": null,
            "grid_template_columns": null,
            "flex": null,
            "_model_name": "LayoutModel",
            "justify_items": null,
            "grid_row": null,
            "max_height": null,
            "align_content": null,
            "visibility": null,
            "align_self": null,
            "height": null,
            "min_height": null,
            "padding": null,
            "grid_auto_rows": null,
            "grid_gap": null,
            "max_width": null,
            "order": null,
            "_view_module_version": "1.2.0",
            "grid_template_areas": null,
            "object_position": null,
            "object_fit": null,
            "grid_auto_columns": null,
            "margin": null,
            "display": null,
            "left": null
          }
        },
        "6f7d6c07c8c84596821b3c98517ede94": {
          "model_module": "@jupyter-widgets/controls",
          "model_name": "FloatProgressModel",
          "state": {
            "_view_name": "ProgressView",
            "style": "IPY_MODEL_b434b87c03a04d2ba980f7bdc4d4f770",
            "_dom_classes": [],
            "description": "Downloading: 100%",
            "_model_name": "FloatProgressModel",
            "bar_style": "success",
            "max": 466062,
            "_view_module": "@jupyter-widgets/controls",
            "_model_module_version": "1.5.0",
            "value": 466062,
            "_view_count": null,
            "_view_module_version": "1.5.0",
            "orientation": "horizontal",
            "min": 0,
            "description_tooltip": null,
            "_model_module": "@jupyter-widgets/controls",
            "layout": "IPY_MODEL_a0a8548190134a9fa9c74529a70624e4"
          }
        },
        "1ff435b13e714043988b630431bb1003": {
          "model_module": "@jupyter-widgets/controls",
          "model_name": "HTMLModel",
          "state": {
            "_view_name": "HTMLView",
            "style": "IPY_MODEL_85d9ad88936547a4848ce92c7c0de1ad",
            "_dom_classes": [],
            "description": "",
            "_model_name": "HTMLModel",
            "placeholder": "​",
            "_view_module": "@jupyter-widgets/controls",
            "_model_module_version": "1.5.0",
            "value": " 466k/466k [00:00&lt;00:00, 1.05MB/s]",
            "_view_count": null,
            "_view_module_version": "1.5.0",
            "description_tooltip": null,
            "_model_module": "@jupyter-widgets/controls",
            "layout": "IPY_MODEL_78e9e1515548486a80aff186bcb82f8f"
          }
        },
        "b434b87c03a04d2ba980f7bdc4d4f770": {
          "model_module": "@jupyter-widgets/controls",
          "model_name": "ProgressStyleModel",
          "state": {
            "_view_name": "StyleView",
            "_model_name": "ProgressStyleModel",
            "description_width": "initial",
            "_view_module": "@jupyter-widgets/base",
            "_model_module_version": "1.5.0",
            "_view_count": null,
            "_view_module_version": "1.2.0",
            "bar_color": null,
            "_model_module": "@jupyter-widgets/controls"
          }
        },
        "a0a8548190134a9fa9c74529a70624e4": {
          "model_module": "@jupyter-widgets/base",
          "model_name": "LayoutModel",
          "state": {
            "_view_name": "LayoutView",
            "grid_template_rows": null,
            "right": null,
            "justify_content": null,
            "_view_module": "@jupyter-widgets/base",
            "overflow": null,
            "_model_module_version": "1.2.0",
            "_view_count": null,
            "flex_flow": null,
            "width": null,
            "min_width": null,
            "border": null,
            "align_items": null,
            "bottom": null,
            "_model_module": "@jupyter-widgets/base",
            "top": null,
            "grid_column": null,
            "overflow_y": null,
            "overflow_x": null,
            "grid_auto_flow": null,
            "grid_area": null,
            "grid_template_columns": null,
            "flex": null,
            "_model_name": "LayoutModel",
            "justify_items": null,
            "grid_row": null,
            "max_height": null,
            "align_content": null,
            "visibility": null,
            "align_self": null,
            "height": null,
            "min_height": null,
            "padding": null,
            "grid_auto_rows": null,
            "grid_gap": null,
            "max_width": null,
            "order": null,
            "_view_module_version": "1.2.0",
            "grid_template_areas": null,
            "object_position": null,
            "object_fit": null,
            "grid_auto_columns": null,
            "margin": null,
            "display": null,
            "left": null
          }
        },
        "85d9ad88936547a4848ce92c7c0de1ad": {
          "model_module": "@jupyter-widgets/controls",
          "model_name": "DescriptionStyleModel",
          "state": {
            "_view_name": "StyleView",
            "_model_name": "DescriptionStyleModel",
            "description_width": "",
            "_view_module": "@jupyter-widgets/base",
            "_model_module_version": "1.5.0",
            "_view_count": null,
            "_view_module_version": "1.2.0",
            "_model_module": "@jupyter-widgets/controls"
          }
        },
        "78e9e1515548486a80aff186bcb82f8f": {
          "model_module": "@jupyter-widgets/base",
          "model_name": "LayoutModel",
          "state": {
            "_view_name": "LayoutView",
            "grid_template_rows": null,
            "right": null,
            "justify_content": null,
            "_view_module": "@jupyter-widgets/base",
            "overflow": null,
            "_model_module_version": "1.2.0",
            "_view_count": null,
            "flex_flow": null,
            "width": null,
            "min_width": null,
            "border": null,
            "align_items": null,
            "bottom": null,
            "_model_module": "@jupyter-widgets/base",
            "top": null,
            "grid_column": null,
            "overflow_y": null,
            "overflow_x": null,
            "grid_auto_flow": null,
            "grid_area": null,
            "grid_template_columns": null,
            "flex": null,
            "_model_name": "LayoutModel",
            "justify_items": null,
            "grid_row": null,
            "max_height": null,
            "align_content": null,
            "visibility": null,
            "align_self": null,
            "height": null,
            "min_height": null,
            "padding": null,
            "grid_auto_rows": null,
            "grid_gap": null,
            "max_width": null,
            "order": null,
            "_view_module_version": "1.2.0",
            "grid_template_areas": null,
            "object_position": null,
            "object_fit": null,
            "grid_auto_columns": null,
            "margin": null,
            "display": null,
            "left": null
          }
        }
      }
    }
  },
  "cells": [
    {
      "cell_type": "markdown",
      "metadata": {
        "id": "Wat_Z24bCx4P"
      },
      "source": [
        "# Tender Classification by its Title"
      ]
    },
    {
      "cell_type": "markdown",
      "metadata": {
        "id": "BnvHT3TcCx4V"
      },
      "source": [
        "The following data contains 160k tenders from different countries in Europe.\n",
        "\n",
        "As our goal is to categorise them based on the text found in the tender, we will just focus on title and description.\n",
        "\n",
        "The label attribute is a binary representation of the attributes \"General\", \"Defence\",\"Education & Culture\",\"Energy & Environment\",\"Health & Care\",\"Infrastructure & Construction\",\"Professional Services\",\"Technology & Communications\",\"Transport & Logistics”."
      ]
    },
    {
      "cell_type": "markdown",
      "metadata": {
        "id": "hDKt1FW1xaPu"
      },
      "source": [
        "First step: make sure transformers are installed for BERT"
      ]
    },
    {
      "cell_type": "code",
      "metadata": {
        "id": "hy4OHvVfwDOt"
      },
      "source": [
        "pip install transformers"
      ],
      "execution_count": null,
      "outputs": []
    },
    {
      "cell_type": "code",
      "metadata": {
        "id": "tW8jTLlnCx4W"
      },
      "source": [
        "import pandas as pd\n",
        "import numpy as np\n",
        "import matplotlib.pyplot as plt\n",
        "\n",
        "import nltk\n",
        "from nltk.tokenize import RegexpTokenizer\n",
        "from nltk.stem import WordNetLemmatizer,PorterStemmer\n",
        "from nltk.corpus import stopwords\n",
        "from nltk.tokenize import word_tokenize\n",
        "import re\n",
        "\n",
        "from sklearn.model_selection import train_test_split\n",
        "from sklearn.metrics import f1_score\n",
        "\n",
        "import tensorflow as tf\n",
        "import keras \n",
        "from tensorflow.math import confusion_matrix\n",
        "from tensorflow.keras.preprocessing.text import Tokenizer\n",
        "from tensorflow.keras.preprocessing.sequence import pad_sequences\n",
        "from tensorflow.keras.models import Sequential\n",
        "from tensorflow.keras.layers import Flatten, Embedding, Dense, Dropout, LSTM, RNN, BatchNormalization\n",
        "\n",
        "import tensorflow_hub as hub\n",
        "\n",
        "from transformers import BertTokenizer\n",
        "\n",
        "import warnings\n",
        "warnings.filterwarnings(\"ignore\")"
      ],
      "execution_count": 2,
      "outputs": []
    },
    {
      "cell_type": "code",
      "metadata": {
        "colab": {
          "base_uri": "https://localhost:8080/"
        },
        "id": "1FAvKr_CDie4",
        "outputId": "6d6d92cd-d7ba-44ee-a4e4-eecaaa9915b6"
      },
      "source": [
        "from google.colab import drive\n",
        "drive.mount('/content/drive')"
      ],
      "execution_count": 3,
      "outputs": [
        {
          "output_type": "stream",
          "text": [
            "Mounted at /content/drive\n"
          ],
          "name": "stdout"
        }
      ]
    },
    {
      "cell_type": "code",
      "metadata": {
        "id": "cv2W-6mXCx4X"
      },
      "source": [
        "data = pd.read_csv('/content/drive/MyDrive/Advanced ML/contracts-train.csv')"
      ],
      "execution_count": 4,
      "outputs": []
    },
    {
      "cell_type": "code",
      "metadata": {
        "colab": {
          "base_uri": "https://localhost:8080/",
          "height": 598
        },
        "id": "_jtnQCECCx4X",
        "outputId": "94d355a1-cb57-42d1-80fa-a2cd4ba7d360"
      },
      "source": [
        "data.head()"
      ],
      "execution_count": 5,
      "outputs": [
        {
          "output_type": "execute_result",
          "data": {
            "text/html": [
              "<div>\n",
              "<style scoped>\n",
              "    .dataframe tbody tr th:only-of-type {\n",
              "        vertical-align: middle;\n",
              "    }\n",
              "\n",
              "    .dataframe tbody tr th {\n",
              "        vertical-align: top;\n",
              "    }\n",
              "\n",
              "    .dataframe thead th {\n",
              "        text-align: right;\n",
              "    }\n",
              "</style>\n",
              "<table border=\"1\" class=\"dataframe\">\n",
              "  <thead>\n",
              "    <tr style=\"text-align: right;\">\n",
              "      <th></th>\n",
              "      <th>docid</th>\n",
              "      <th>publication_date</th>\n",
              "      <th>contract_type</th>\n",
              "      <th>nature_of_contract</th>\n",
              "      <th>country_code</th>\n",
              "      <th>country_name</th>\n",
              "      <th>sector</th>\n",
              "      <th>value</th>\n",
              "      <th>title</th>\n",
              "      <th>description</th>\n",
              "      <th>awarding_authority</th>\n",
              "      <th>complete_entry</th>\n",
              "      <th>General</th>\n",
              "      <th>Defence</th>\n",
              "      <th>Education &amp; Culture</th>\n",
              "      <th>Energy &amp; Environment</th>\n",
              "      <th>Health &amp; Care</th>\n",
              "      <th>Infrastructure &amp; Construction</th>\n",
              "      <th>Professional Services</th>\n",
              "      <th>Technology &amp; Communications</th>\n",
              "      <th>Transport &amp; Logistics</th>\n",
              "      <th>label</th>\n",
              "    </tr>\n",
              "  </thead>\n",
              "  <tbody>\n",
              "    <tr>\n",
              "      <th>0</th>\n",
              "      <td>2265917679</td>\n",
              "      <td>2020-04-02</td>\n",
              "      <td>notice</td>\n",
              "      <td>services</td>\n",
              "      <td>FR</td>\n",
              "      <td>France</td>\n",
              "      <td>public</td>\n",
              "      <td>NaN</td>\n",
              "      <td>France-Nantes: Evaluation consultancy services</td>\n",
              "      <td>La présente consultation porte sur la mission ...</td>\n",
              "      <td>Nantes Métropole</td>\n",
              "      <td>&lt;b&gt;Type of document:&lt;/b&gt; Additional informatio...</td>\n",
              "      <td>False</td>\n",
              "      <td>False</td>\n",
              "      <td>False</td>\n",
              "      <td>False</td>\n",
              "      <td>False</td>\n",
              "      <td>False</td>\n",
              "      <td>True</td>\n",
              "      <td>False</td>\n",
              "      <td>False</td>\n",
              "      <td>100</td>\n",
              "    </tr>\n",
              "    <tr>\n",
              "      <th>1</th>\n",
              "      <td>2216312773</td>\n",
              "      <td>2020-02-21</td>\n",
              "      <td>award</td>\n",
              "      <td>supplies</td>\n",
              "      <td>DE</td>\n",
              "      <td>Germany</td>\n",
              "      <td>public</td>\n",
              "      <td>1.0</td>\n",
              "      <td>Germany-Hamburg: Network components</td>\n",
              "      <td>Die TK plant die Beschaffung von Intrusion Pre...</td>\n",
              "      <td>Techniker Krankenkasse</td>\n",
              "      <td>&lt;b&gt;Type of document:&lt;/b&gt; Contract Awards\\n&lt;b&gt;C...</td>\n",
              "      <td>True</td>\n",
              "      <td>False</td>\n",
              "      <td>False</td>\n",
              "      <td>False</td>\n",
              "      <td>False</td>\n",
              "      <td>False</td>\n",
              "      <td>True</td>\n",
              "      <td>True</td>\n",
              "      <td>False</td>\n",
              "      <td>100000110</td>\n",
              "    </tr>\n",
              "    <tr>\n",
              "      <th>2</th>\n",
              "      <td>2272239011</td>\n",
              "      <td>2020-04-08</td>\n",
              "      <td>award</td>\n",
              "      <td>works</td>\n",
              "      <td>DE</td>\n",
              "      <td>Germany</td>\n",
              "      <td>public</td>\n",
              "      <td>1349412.0</td>\n",
              "      <td>Germany-Düsseldorf: Works for complete or part...</td>\n",
              "      <td>— Technisches Gebäudemanagement (TGM), BLB NRW...</td>\n",
              "      <td>Bau- und Liegenschaftsbetrieb NRW Zentrale</td>\n",
              "      <td>&lt;b&gt;Type of document:&lt;/b&gt; Contract Awards\\n&lt;b&gt;C...</td>\n",
              "      <td>True</td>\n",
              "      <td>False</td>\n",
              "      <td>False</td>\n",
              "      <td>False</td>\n",
              "      <td>False</td>\n",
              "      <td>True</td>\n",
              "      <td>False</td>\n",
              "      <td>False</td>\n",
              "      <td>False</td>\n",
              "      <td>100001000</td>\n",
              "    </tr>\n",
              "    <tr>\n",
              "      <th>3</th>\n",
              "      <td>2223768560</td>\n",
              "      <td>2020-02-27</td>\n",
              "      <td>notice</td>\n",
              "      <td>supplies</td>\n",
              "      <td>GB</td>\n",
              "      <td>United Kingdom</td>\n",
              "      <td>public</td>\n",
              "      <td>5000000.0</td>\n",
              "      <td>United Kingdom-London: Gas Materials (Inc Boil...</td>\n",
              "      <td>The Hyde Group (THG) is looking to enter into ...</td>\n",
              "      <td>Hyde Housing Association (The Hyde Group)</td>\n",
              "      <td>&lt;b&gt;Type of document:&lt;/b&gt; Invitation to tender\\...</td>\n",
              "      <td>False</td>\n",
              "      <td>False</td>\n",
              "      <td>False</td>\n",
              "      <td>False</td>\n",
              "      <td>False</td>\n",
              "      <td>True</td>\n",
              "      <td>False</td>\n",
              "      <td>False</td>\n",
              "      <td>False</td>\n",
              "      <td>1000</td>\n",
              "    </tr>\n",
              "    <tr>\n",
              "      <th>4</th>\n",
              "      <td>2211260904</td>\n",
              "      <td>2020-02-18</td>\n",
              "      <td>notice</td>\n",
              "      <td>services</td>\n",
              "      <td>NO</td>\n",
              "      <td>Norway</td>\n",
              "      <td>public</td>\n",
              "      <td>NaN</td>\n",
              "      <td>Norway-Oslo: IT services: consulting, software...</td>\n",
              "      <td>The Agency for Planning and Building Services ...</td>\n",
              "      <td>Oslo kommune v/Plan- og bygningsetaten</td>\n",
              "      <td>&lt;b&gt;Type of document:&lt;/b&gt; Pre-information proce...</td>\n",
              "      <td>False</td>\n",
              "      <td>False</td>\n",
              "      <td>False</td>\n",
              "      <td>False</td>\n",
              "      <td>False</td>\n",
              "      <td>False</td>\n",
              "      <td>True</td>\n",
              "      <td>False</td>\n",
              "      <td>False</td>\n",
              "      <td>100</td>\n",
              "    </tr>\n",
              "  </tbody>\n",
              "</table>\n",
              "</div>"
            ],
            "text/plain": [
              "        docid publication_date  ... Transport & Logistics      label\n",
              "0  2265917679       2020-04-02  ...                 False        100\n",
              "1  2216312773       2020-02-21  ...                 False  100000110\n",
              "2  2272239011       2020-04-08  ...                 False  100001000\n",
              "3  2223768560       2020-02-27  ...                 False       1000\n",
              "4  2211260904       2020-02-18  ...                 False        100\n",
              "\n",
              "[5 rows x 22 columns]"
            ]
          },
          "metadata": {
            "tags": []
          },
          "execution_count": 5
        }
      ]
    },
    {
      "cell_type": "code",
      "metadata": {
        "colab": {
          "base_uri": "https://localhost:8080/"
        },
        "id": "VgEaELNnCx4Z",
        "outputId": "89f38cbe-22ee-48af-c678-b915a07db4f3"
      },
      "source": [
        "data.info()"
      ],
      "execution_count": 6,
      "outputs": [
        {
          "output_type": "stream",
          "text": [
            "<class 'pandas.core.frame.DataFrame'>\n",
            "RangeIndex: 160000 entries, 0 to 159999\n",
            "Data columns (total 22 columns):\n",
            " #   Column                         Non-Null Count   Dtype  \n",
            "---  ------                         --------------   -----  \n",
            " 0   docid                          160000 non-null  int64  \n",
            " 1   publication_date               160000 non-null  object \n",
            " 2   contract_type                  160000 non-null  object \n",
            " 3   nature_of_contract             159985 non-null  object \n",
            " 4   country_code                   159999 non-null  object \n",
            " 5   country_name                   160000 non-null  object \n",
            " 6   sector                         160000 non-null  object \n",
            " 7   value                          84856 non-null   float64\n",
            " 8   title                          160000 non-null  object \n",
            " 9   description                    160000 non-null  object \n",
            " 10  awarding_authority             160000 non-null  object \n",
            " 11  complete_entry                 160000 non-null  object \n",
            " 12  General                        160000 non-null  bool   \n",
            " 13  Defence                        160000 non-null  bool   \n",
            " 14  Education & Culture            160000 non-null  bool   \n",
            " 15  Energy & Environment           160000 non-null  bool   \n",
            " 16  Health & Care                  160000 non-null  bool   \n",
            " 17  Infrastructure & Construction  160000 non-null  bool   \n",
            " 18  Professional Services          160000 non-null  bool   \n",
            " 19  Technology & Communications    160000 non-null  bool   \n",
            " 20  Transport & Logistics          160000 non-null  bool   \n",
            " 21  label                          160000 non-null  int64  \n",
            "dtypes: bool(9), float64(1), int64(2), object(10)\n",
            "memory usage: 17.2+ MB\n"
          ],
          "name": "stdout"
        }
      ]
    },
    {
      "cell_type": "code",
      "metadata": {
        "colab": {
          "base_uri": "https://localhost:8080/"
        },
        "id": "mdjl-nNHCx4Z",
        "outputId": "234fdd87-da28-429e-c3e5-f79a4cce05b8"
      },
      "source": [
        "data.isna().sum()"
      ],
      "execution_count": 7,
      "outputs": [
        {
          "output_type": "execute_result",
          "data": {
            "text/plain": [
              "docid                                0\n",
              "publication_date                     0\n",
              "contract_type                        0\n",
              "nature_of_contract                  15\n",
              "country_code                         1\n",
              "country_name                         0\n",
              "sector                               0\n",
              "value                            75144\n",
              "title                                0\n",
              "description                          0\n",
              "awarding_authority                   0\n",
              "complete_entry                       0\n",
              "General                              0\n",
              "Defence                              0\n",
              "Education & Culture                  0\n",
              "Energy & Environment                 0\n",
              "Health & Care                        0\n",
              "Infrastructure & Construction        0\n",
              "Professional Services                0\n",
              "Technology & Communications          0\n",
              "Transport & Logistics                0\n",
              "label                                0\n",
              "dtype: int64"
            ]
          },
          "metadata": {
            "tags": []
          },
          "execution_count": 7
        }
      ]
    },
    {
      "cell_type": "markdown",
      "metadata": {
        "id": "UHh57drZCx4a"
      },
      "source": [
        "We can observe there are a few Na's in our data, but as we will be focusing just in the title and description, this should be no problem as these two categories are complete."
      ]
    },
    {
      "cell_type": "code",
      "metadata": {
        "id": "7bfJiljiCx4a"
      },
      "source": [
        "X = data[['title','description']]\n",
        "target = data[[\"General\", \"Defence\",\"Education & Culture\",\"Energy & Environment\",\n",
        "               \"Health & Care\",\"Infrastructure & Construction\",\"Professional Services\",\n",
        "               \"Technology & Communications\",\"Transport & Logistics\"]].astype(int)"
      ],
      "execution_count": 8,
      "outputs": []
    },
    {
      "cell_type": "markdown",
      "metadata": {
        "id": "vS3IEQKPD4ZN"
      },
      "source": [
        "Lets observe how the tenders are classified."
      ]
    },
    {
      "cell_type": "code",
      "metadata": {
        "colab": {
          "base_uri": "https://localhost:8080/",
          "height": 204
        },
        "id": "qLgG-8AeD130",
        "outputId": "b4ca9108-253a-48d4-c0c2-0692c2ccbd4f"
      },
      "source": [
        "target.head()"
      ],
      "execution_count": 75,
      "outputs": [
        {
          "output_type": "execute_result",
          "data": {
            "text/html": [
              "<div>\n",
              "<style scoped>\n",
              "    .dataframe tbody tr th:only-of-type {\n",
              "        vertical-align: middle;\n",
              "    }\n",
              "\n",
              "    .dataframe tbody tr th {\n",
              "        vertical-align: top;\n",
              "    }\n",
              "\n",
              "    .dataframe thead th {\n",
              "        text-align: right;\n",
              "    }\n",
              "</style>\n",
              "<table border=\"1\" class=\"dataframe\">\n",
              "  <thead>\n",
              "    <tr style=\"text-align: right;\">\n",
              "      <th></th>\n",
              "      <th>General</th>\n",
              "      <th>Defence</th>\n",
              "      <th>Education &amp; Culture</th>\n",
              "      <th>Energy &amp; Environment</th>\n",
              "      <th>Health &amp; Care</th>\n",
              "      <th>Infrastructure &amp; Construction</th>\n",
              "      <th>Professional Services</th>\n",
              "      <th>Technology &amp; Communications</th>\n",
              "      <th>Transport &amp; Logistics</th>\n",
              "    </tr>\n",
              "  </thead>\n",
              "  <tbody>\n",
              "    <tr>\n",
              "      <th>0</th>\n",
              "      <td>0</td>\n",
              "      <td>0</td>\n",
              "      <td>0</td>\n",
              "      <td>0</td>\n",
              "      <td>0</td>\n",
              "      <td>0</td>\n",
              "      <td>1</td>\n",
              "      <td>0</td>\n",
              "      <td>0</td>\n",
              "    </tr>\n",
              "    <tr>\n",
              "      <th>1</th>\n",
              "      <td>1</td>\n",
              "      <td>0</td>\n",
              "      <td>0</td>\n",
              "      <td>0</td>\n",
              "      <td>0</td>\n",
              "      <td>0</td>\n",
              "      <td>1</td>\n",
              "      <td>1</td>\n",
              "      <td>0</td>\n",
              "    </tr>\n",
              "    <tr>\n",
              "      <th>2</th>\n",
              "      <td>1</td>\n",
              "      <td>0</td>\n",
              "      <td>0</td>\n",
              "      <td>0</td>\n",
              "      <td>0</td>\n",
              "      <td>1</td>\n",
              "      <td>0</td>\n",
              "      <td>0</td>\n",
              "      <td>0</td>\n",
              "    </tr>\n",
              "    <tr>\n",
              "      <th>3</th>\n",
              "      <td>0</td>\n",
              "      <td>0</td>\n",
              "      <td>0</td>\n",
              "      <td>0</td>\n",
              "      <td>0</td>\n",
              "      <td>1</td>\n",
              "      <td>0</td>\n",
              "      <td>0</td>\n",
              "      <td>0</td>\n",
              "    </tr>\n",
              "    <tr>\n",
              "      <th>4</th>\n",
              "      <td>0</td>\n",
              "      <td>0</td>\n",
              "      <td>0</td>\n",
              "      <td>0</td>\n",
              "      <td>0</td>\n",
              "      <td>0</td>\n",
              "      <td>1</td>\n",
              "      <td>0</td>\n",
              "      <td>0</td>\n",
              "    </tr>\n",
              "  </tbody>\n",
              "</table>\n",
              "</div>"
            ],
            "text/plain": [
              "   General  Defence  ...  Technology & Communications  Transport & Logistics\n",
              "0        0        0  ...                            0                      0\n",
              "1        1        0  ...                            1                      0\n",
              "2        1        0  ...                            0                      0\n",
              "3        0        0  ...                            0                      0\n",
              "4        0        0  ...                            0                      0\n",
              "\n",
              "[5 rows x 9 columns]"
            ]
          },
          "metadata": {
            "tags": []
          },
          "execution_count": 75
        }
      ]
    },
    {
      "cell_type": "markdown",
      "metadata": {
        "id": "7qEEl1BlELLy"
      },
      "source": [
        "There are 9 categories and a tender can belong to more than one of these cateogires"
      ]
    },
    {
      "cell_type": "markdown",
      "metadata": {
        "id": "jdRP8lhgCx4b"
      },
      "source": [
        "We will try out 2 different methods:\n",
        "    \n",
        "    1. Recurrent Neural Networks (RNNs)\n",
        "    \n",
        "    2. BERT\n",
        "    \n",
        "For RNNs we will use embedding layers, where we will need to clean our text (i.e. remove stopwords, special symbols, punctuation, stemming, lowercasing all words)"
      ]
    },
    {
      "cell_type": "code",
      "metadata": {
        "colab": {
          "base_uri": "https://localhost:8080/"
        },
        "id": "HFtwxxq_Cx4b",
        "outputId": "85291355-678b-40a2-f052-0fda2f1ddd3a"
      },
      "source": [
        "data['country_name'].value_counts()"
      ],
      "execution_count": 9,
      "outputs": [
        {
          "output_type": "execute_result",
          "data": {
            "text/plain": [
              "Germany           30412\n",
              "France            22995\n",
              "Poland            19244\n",
              "Spain             10143\n",
              "United Kingdom     8274\n",
              "                  ...  \n",
              "Chad                  1\n",
              "Jordan                1\n",
              "Afghanistan           1\n",
              "Fiji                  1\n",
              "Malaysia              1\n",
              "Name: country_name, Length: 105, dtype: int64"
            ]
          },
          "metadata": {
            "tags": []
          },
          "execution_count": 9
        }
      ]
    },
    {
      "cell_type": "markdown",
      "metadata": {
        "id": "tu36Xo1TCx4b"
      },
      "source": [
        "We have tenders from 105 different countries.  We can observe from the data head that all titles are in english, however, descriptions are in the country's native language.\n",
        "\n",
        "This can cause us some trouble if we want to analyse the discription too.  Using RNNs, the way to go would be to translate all descriptions to the same language as we want our embeddings to have the same value for every word with the same meaning disregarding the language.  Sadly Google translate free API doesnt allow for more than 15000 characters a day so we wont be able to do this.\n",
        "\n",
        "For BERT, as it uses its own dictionary, a function that detects the language and tokenizes the sentence with the correct dictionary can be used.\n",
        "\n",
        "\n",
        "For this project we will just evaluate the title, let's have a peek of the title:"
      ]
    },
    {
      "cell_type": "code",
      "metadata": {
        "colab": {
          "base_uri": "https://localhost:8080/"
        },
        "id": "2UKbHOoqEUyx",
        "outputId": "4595386a-5708-4d8f-a764-21b28a8da90a"
      },
      "source": [
        "data['title'][:15]"
      ],
      "execution_count": 80,
      "outputs": [
        {
          "output_type": "execute_result",
          "data": {
            "text/plain": [
              "0        France-Nantes: Evaluation consultancy services\n",
              "1                   Germany-Hamburg: Network components\n",
              "2     Germany-Düsseldorf: Works for complete or part...\n",
              "3     United Kingdom-London: Gas Materials (Inc Boil...\n",
              "4     Norway-Oslo: IT services: consulting, software...\n",
              "5     United Kingdom-Stirling: Roads Maintenance and...\n",
              "6     Belgium-Namur: Electrical machinery, apparatus...\n",
              "7     France-Wallers-Arenberg: Building-cleaning ser...\n",
              "8     France-Créteil: Architectural, construction, e...\n",
              "9               Portugal-Lisbon: Sewage treatment works\n",
              "10                                  Spain-Madrid: Tools\n",
              "11    Denmark-Ballerup: Repair and maintenance services\n",
              "12    United Kingdom-London: BTA1189 — Microgapping ...\n",
              "13                  Germany-Hanau: Engineering services\n",
              "14     Germany-Düsseldorf: Flash memory storage devices\n",
              "Name: title, dtype: object"
            ]
          },
          "metadata": {
            "tags": []
          },
          "execution_count": 80
        }
      ]
    },
    {
      "cell_type": "markdown",
      "metadata": {
        "id": "P4BQCq2DCx4c"
      },
      "source": [
        "As a first step, we'll split the title column, as it contains the country, the city and finally the real title"
      ]
    },
    {
      "cell_type": "code",
      "metadata": {
        "id": "KEiQExnGCx4c"
      },
      "source": [
        "X['title2'] = 0\n",
        "for i in range(len(X['title'])):\n",
        "    title_split = X['title'][i].split(\"-\",1)[1].split(':')\n",
        "    X['title2'][i] = title_split[1]"
      ],
      "execution_count": 10,
      "outputs": []
    },
    {
      "cell_type": "markdown",
      "metadata": {
        "id": "iZ2VrGCsCx4c"
      },
      "source": [
        "Next we define a function to remove stopwords, special symbols, punctuation, stemming and lowercase all words"
      ]
    },
    {
      "cell_type": "code",
      "metadata": {
        "colab": {
          "base_uri": "https://localhost:8080/"
        },
        "id": "NfdKhhecCx4d",
        "outputId": "7602ab6e-6e8f-4f00-aea6-1c3d9fad22cb"
      },
      "source": [
        "#TO DOWNLOAD STOPWORDS, PUNCTUATION, SYMBOLS, ETC\n",
        "nltk.download(\"stopwords\")\n",
        "nltk.download('punkt')\n",
        "nltk.download('wordnet')\n",
        "\n",
        "lemmatizer = WordNetLemmatizer()\n",
        "stemmer = PorterStemmer() \n",
        "\n",
        "def preprocess(sentence):\n",
        "    sentence=str(sentence)\n",
        "    sentence = sentence.lower()\n",
        "    sentence=sentence.replace('{html}',\"\") \n",
        "    cleanr = re.compile('<.*?>')\n",
        "    cleantext = re.sub(cleanr, '', sentence)\n",
        "    rem_url=re.sub(r'http\\S+', '',cleantext)\n",
        "    rem_num = re.sub('[0-9]+', '', rem_url)\n",
        "    tokenizer = RegexpTokenizer(r'\\w+')\n",
        "    tokens = tokenizer.tokenize(rem_num)  \n",
        "    filtered_words = [w for w in tokens if len(w) > 2 if not w in stopwords.words('english')]\n",
        "    stem_words=[stemmer.stem(w) for w in filtered_words]\n",
        "    lemma_words=[lemmatizer.lemmatize(w) for w in stem_words]\n",
        "    \n",
        "    return \" \".join(filtered_words).split()"
      ],
      "execution_count": 11,
      "outputs": [
        {
          "output_type": "stream",
          "text": [
            "[nltk_data] Downloading package stopwords to /root/nltk_data...\n",
            "[nltk_data]   Unzipping corpora/stopwords.zip.\n",
            "[nltk_data] Downloading package punkt to /root/nltk_data...\n",
            "[nltk_data]   Unzipping tokenizers/punkt.zip.\n",
            "[nltk_data] Downloading package wordnet to /root/nltk_data...\n",
            "[nltk_data]   Unzipping corpora/wordnet.zip.\n"
          ],
          "name": "stdout"
        }
      ]
    },
    {
      "cell_type": "code",
      "metadata": {
        "id": "tWUoaZ6-Cx4d"
      },
      "source": [
        "X['clean_title'] = X['title2'].map(lambda s:preprocess(s))\n",
        "X.drop(['title','description'], axis=1, inplace=True)"
      ],
      "execution_count": 12,
      "outputs": []
    },
    {
      "cell_type": "code",
      "metadata": {
        "colab": {
          "base_uri": "https://localhost:8080/",
          "height": 204
        },
        "id": "6TeC7VhzCx4d",
        "outputId": "63cee04b-6245-49dd-d725-e4ffbb8e5b0c"
      },
      "source": [
        "X.head()"
      ],
      "execution_count": 13,
      "outputs": [
        {
          "output_type": "execute_result",
          "data": {
            "text/html": [
              "<div>\n",
              "<style scoped>\n",
              "    .dataframe tbody tr th:only-of-type {\n",
              "        vertical-align: middle;\n",
              "    }\n",
              "\n",
              "    .dataframe tbody tr th {\n",
              "        vertical-align: top;\n",
              "    }\n",
              "\n",
              "    .dataframe thead th {\n",
              "        text-align: right;\n",
              "    }\n",
              "</style>\n",
              "<table border=\"1\" class=\"dataframe\">\n",
              "  <thead>\n",
              "    <tr style=\"text-align: right;\">\n",
              "      <th></th>\n",
              "      <th>title2</th>\n",
              "      <th>clean_title</th>\n",
              "    </tr>\n",
              "  </thead>\n",
              "  <tbody>\n",
              "    <tr>\n",
              "      <th>0</th>\n",
              "      <td>Evaluation consultancy services</td>\n",
              "      <td>[evaluation, consultancy, services]</td>\n",
              "    </tr>\n",
              "    <tr>\n",
              "      <th>1</th>\n",
              "      <td>Network components</td>\n",
              "      <td>[network, components]</td>\n",
              "    </tr>\n",
              "    <tr>\n",
              "      <th>2</th>\n",
              "      <td>Works for complete or part construction and c...</td>\n",
              "      <td>[works, complete, part, construction, civil, e...</td>\n",
              "    </tr>\n",
              "    <tr>\n",
              "      <th>3</th>\n",
              "      <td>Gas Materials (Inc Boilers and Associated Plu...</td>\n",
              "      <td>[gas, materials, inc, boilers, associated, plu...</td>\n",
              "    </tr>\n",
              "    <tr>\n",
              "      <th>4</th>\n",
              "      <td>IT services</td>\n",
              "      <td>[services]</td>\n",
              "    </tr>\n",
              "  </tbody>\n",
              "</table>\n",
              "</div>"
            ],
            "text/plain": [
              "                                              title2                                        clean_title\n",
              "0                    Evaluation consultancy services                [evaluation, consultancy, services]\n",
              "1                                 Network components                              [network, components]\n",
              "2   Works for complete or part construction and c...  [works, complete, part, construction, civil, e...\n",
              "3   Gas Materials (Inc Boilers and Associated Plu...  [gas, materials, inc, boilers, associated, plu...\n",
              "4                                        IT services                                         [services]"
            ]
          },
          "metadata": {
            "tags": []
          },
          "execution_count": 13
        }
      ]
    },
    {
      "cell_type": "markdown",
      "metadata": {
        "id": "VXqnbnS1vspb"
      },
      "source": [
        "Title2 will be kept for BERT, as it encodes the complete sentence its way with its dictionary."
      ]
    },
    {
      "cell_type": "markdown",
      "metadata": {
        "id": "WtyxUoVxCx4c"
      },
      "source": [
        "# Data Preprocessing for RNN"
      ]
    },
    {
      "cell_type": "markdown",
      "metadata": {
        "id": "90GIOEfnCx4d"
      },
      "source": [
        "For the embeddings for our RNN we will use clean_title.\n",
        "\n",
        "Also, we will fit the Keras tokenizer on our whole data to get the biggest dictionary possible."
      ]
    },
    {
      "cell_type": "code",
      "metadata": {
        "id": "HXMNOZN6Cx4e"
      },
      "source": [
        "title_tokenizer = Tokenizer()\n",
        "title_tokenizer.fit_on_texts(X['clean_title'])"
      ],
      "execution_count": 36,
      "outputs": []
    },
    {
      "cell_type": "code",
      "metadata": {
        "collapsed": true,
        "id": "zPkmA4KVCx4e"
      },
      "source": [
        "title_tokenizer.get_config()['word_index']\n",
        "\n",
        "#Title vocab length: 10249"
      ],
      "execution_count": null,
      "outputs": []
    },
    {
      "cell_type": "code",
      "metadata": {
        "colab": {
          "base_uri": "https://localhost:8080/"
        },
        "id": "_8i6btSQCx4e",
        "outputId": "cc332683-0f3d-468a-e736-e3ead8cf3fbe"
      },
      "source": [
        "longest_title = X.clean_title.map(len).max()\n",
        "longest_title"
      ],
      "execution_count": 38,
      "outputs": [
        {
          "output_type": "execute_result",
          "data": {
            "text/plain": [
              "35"
            ]
          },
          "metadata": {
            "tags": []
          },
          "execution_count": 38
        }
      ]
    },
    {
      "cell_type": "markdown",
      "metadata": {
        "id": "p9ogkT6xCx4f"
      },
      "source": [
        "We also see that the longest title is 35 characters"
      ]
    },
    {
      "cell_type": "markdown",
      "metadata": {
        "id": "9bewdsjmCx4f"
      },
      "source": [
        "# Train Test Split"
      ]
    },
    {
      "cell_type": "code",
      "metadata": {
        "id": "GzLmnF2eCx4g"
      },
      "source": [
        "X_train, X_test, y_train, y_test = train_test_split(X, target, test_size=0.3, random_state=42)"
      ],
      "execution_count": 14,
      "outputs": []
    },
    {
      "cell_type": "code",
      "metadata": {
        "id": "Te1EgB1ZCx4g"
      },
      "source": [
        "#Embedding train title\n",
        "train_tokens_title = title_tokenizer.texts_to_sequences(X_train['clean_title'])\n",
        "padded_train_title = pad_sequences(train_tokens_title, maxlen = longest_title, padding = 'post') #Title input"
      ],
      "execution_count": 39,
      "outputs": []
    },
    {
      "cell_type": "markdown",
      "metadata": {
        "id": "SiDhwrSUCx4h"
      },
      "source": [
        "# Building the RNN"
      ]
    },
    {
      "cell_type": "markdown",
      "metadata": {
        "id": "Y24pKUkHCx4h"
      },
      "source": [
        "First, we will define a function for learning rate smoothing, this will tune the learning rate to smaller values the lower the error"
      ]
    },
    {
      "cell_type": "code",
      "metadata": {
        "id": "vlOz3pv5Cx4h"
      },
      "source": [
        "def exponential_decay(lr0,s):\n",
        "    def exponential_decay_fn(epoch):\n",
        "        return lr0 * 0.1**(epoch / s)\n",
        "    return exponential_decay_fn\n",
        "\n",
        "exponential_decay_fn = exponential_decay(lr0 = 0.001, s=20)\n",
        "\n",
        "lr_schedular = keras.callbacks.LearningRateScheduler(exponential_decay_fn)"
      ],
      "execution_count": 43,
      "outputs": []
    },
    {
      "cell_type": "code",
      "metadata": {
        "id": "5rtMJX22Cx4i"
      },
      "source": [
        "title_inputs = tf.keras.layers.Input((longest_title,), dtype='int32', name='title_inputs')\n",
        "\n",
        "\n",
        "lstm_layer_title = tf.keras.layers.LSTM(128)\n",
        "embedding_layer_title = tf.keras.layers.Embedding(10250, 200, input_length=longest_title)\n",
        "\n",
        "title = embedding_layer_title(title_inputs)\n",
        "title = tf.keras.layers.LSTM(256, return_sequences=True, input_shape=(None, 35, 1))(title)\n",
        "title = tf.keras.layers.LSTM(128, return_sequences=True, input_shape=(None, 35, 1))(title)\n",
        "title = tf.keras.layers.LSTM(128)(title)\n",
        "title = tf.keras.layers.Dense(2000, activation='relu', kernel_initializer='GlorotNormal')(title)\n",
        "title = tf.keras.layers.Dense(1000, activation='relu', kernel_initializer='GlorotNormal')(title)\n",
        "title = tf.keras.layers.Dropout(0.2)(title)\n",
        "\n",
        "out = tf.keras.layers.Dense(9, activation='sigmoid', name='output')(title)"
      ],
      "execution_count": 44,
      "outputs": []
    },
    {
      "cell_type": "code",
      "metadata": {
        "colab": {
          "base_uri": "https://localhost:8080/"
        },
        "id": "6ycS2hhOCx4i",
        "outputId": "4b1104c1-0dc3-422c-b943-8dcbde3d235b"
      },
      "source": [
        "RNN_model = tf.keras.models.Model(inputs = [title_inputs], \n",
        "                              outputs = out)\n",
        "print(RNN_model.summary())"
      ],
      "execution_count": 45,
      "outputs": [
        {
          "output_type": "stream",
          "text": [
            "Model: \"model_2\"\n",
            "_________________________________________________________________\n",
            "Layer (type)                 Output Shape              Param #   \n",
            "=================================================================\n",
            "title_inputs (InputLayer)    [(None, 35)]              0         \n",
            "_________________________________________________________________\n",
            "embedding (Embedding)        (None, 35, 200)           2050000   \n",
            "_________________________________________________________________\n",
            "lstm_1 (LSTM)                (None, 35, 256)           467968    \n",
            "_________________________________________________________________\n",
            "lstm_2 (LSTM)                (None, 35, 128)           197120    \n",
            "_________________________________________________________________\n",
            "lstm_3 (LSTM)                (None, 128)               131584    \n",
            "_________________________________________________________________\n",
            "dense (Dense)                (None, 2000)              258000    \n",
            "_________________________________________________________________\n",
            "dense_1 (Dense)              (None, 1000)              2001000   \n",
            "_________________________________________________________________\n",
            "dropout_2 (Dropout)          (None, 1000)              0         \n",
            "_________________________________________________________________\n",
            "output (Dense)               (None, 9)                 9009      \n",
            "=================================================================\n",
            "Total params: 5,114,681\n",
            "Trainable params: 5,114,681\n",
            "Non-trainable params: 0\n",
            "_________________________________________________________________\n",
            "None\n"
          ],
          "name": "stdout"
        }
      ]
    },
    {
      "cell_type": "code",
      "metadata": {
        "scrolled": false,
        "colab": {
          "base_uri": "https://localhost:8080/"
        },
        "id": "WenPBMnBCx4j",
        "outputId": "c82bd84c-f3c0-4f6c-8d16-b214d885aa1f"
      },
      "source": [
        "RNN_model.compile(optimizer=keras.optimizers.Adam(lr=0.001), loss='binary_crossentropy', metrics=[\"accuracy\"])\n",
        "\n",
        "history_RNN = RNN_model.fit(padded_train_title, \n",
        "                    y_train.values, \n",
        "                    epochs = 10, \n",
        "                    validation_split=0.2, \n",
        "                    batch_size=100)"
      ],
      "execution_count": 46,
      "outputs": [
        {
          "output_type": "stream",
          "text": [
            "Epoch 1/10\n",
            "896/896 [==============================] - 41s 27ms/step - loss: 0.3483 - accuracy: 0.3371 - val_loss: 0.1608 - val_accuracy: 0.7877\n",
            "Epoch 2/10\n",
            "896/896 [==============================] - 25s 27ms/step - loss: 0.1456 - accuracy: 0.8271 - val_loss: 0.1174 - val_accuracy: 0.8692\n",
            "Epoch 3/10\n",
            "896/896 [==============================] - 25s 27ms/step - loss: 0.1107 - accuracy: 0.8805 - val_loss: 0.1123 - val_accuracy: 0.8766\n",
            "Epoch 4/10\n",
            "896/896 [==============================] - 25s 27ms/step - loss: 0.0996 - accuracy: 0.8959 - val_loss: 0.1021 - val_accuracy: 0.8918\n",
            "Epoch 5/10\n",
            "896/896 [==============================] - 24s 27ms/step - loss: 0.0917 - accuracy: 0.9060 - val_loss: 0.1004 - val_accuracy: 0.8970\n",
            "Epoch 6/10\n",
            "896/896 [==============================] - 25s 27ms/step - loss: 0.0877 - accuracy: 0.9107 - val_loss: 0.0975 - val_accuracy: 0.8975\n",
            "Epoch 7/10\n",
            "896/896 [==============================] - 25s 28ms/step - loss: 0.0845 - accuracy: 0.9146 - val_loss: 0.0991 - val_accuracy: 0.8986\n",
            "Epoch 8/10\n",
            "896/896 [==============================] - 25s 28ms/step - loss: 0.0804 - accuracy: 0.9171 - val_loss: 0.1000 - val_accuracy: 0.8998\n",
            "Epoch 9/10\n",
            "896/896 [==============================] - 25s 27ms/step - loss: 0.0796 - accuracy: 0.9170 - val_loss: 0.0999 - val_accuracy: 0.8990\n",
            "Epoch 10/10\n",
            "896/896 [==============================] - 25s 27ms/step - loss: 0.0786 - accuracy: 0.9183 - val_loss: 0.0989 - val_accuracy: 0.9014\n"
          ],
          "name": "stdout"
        }
      ]
    },
    {
      "cell_type": "code",
      "metadata": {
        "colab": {
          "base_uri": "https://localhost:8080/",
          "height": 449
        },
        "id": "jJ5SGDx_XTFs",
        "outputId": "b117f5d5-422c-42fb-e592-9189f9fe3717"
      },
      "source": [
        "pd.DataFrame(history_RNN.history).plot(figsize=(10,7), linewidth = 2.5)\n",
        "plt.grid(True)\n",
        "plt.legend(fontsize=15)\n",
        "plt.gca().set_ylim(0,1)\n",
        "plt.show"
      ],
      "execution_count": 47,
      "outputs": [
        {
          "output_type": "execute_result",
          "data": {
            "text/plain": [
              "<function matplotlib.pyplot.show>"
            ]
          },
          "metadata": {
            "tags": []
          },
          "execution_count": 47
        },
        {
          "output_type": "display_data",
          "data": {
            "image/png": "[encoded data removed]",
            "text/plain": [
              "<Figure size 720x504 with 1 Axes>"
            ]
          },
          "metadata": {
            "tags": [],
            "needs_background": "light"
          }
        }
      ]
    },
    {
      "cell_type": "markdown",
      "metadata": {
        "id": "6k-uOYSyYuic"
      },
      "source": [
        "#Test"
      ]
    },
    {
      "cell_type": "code",
      "metadata": {
        "id": "-yFmCxfNYqqU"
      },
      "source": [
        "#Embedding train title\n",
        "test_tokens_title = title_tokenizer.texts_to_sequences(X_test['clean_title'])\n",
        "padded_test_title = pad_sequences(test_tokens_title, maxlen = longest_title, padding = 'post') #Title input"
      ],
      "execution_count": 48,
      "outputs": []
    },
    {
      "cell_type": "code",
      "metadata": {
        "id": "luhQX7nicV0F"
      },
      "source": [
        "predictions_RNN = RNN_model.predict((padded_test_title))\n",
        "\n",
        "results_RNN = []\n",
        "for row in range(len(predictions_RNN)):\n",
        "  row_list = []\n",
        "  for value in predictions_RNN[row]:\n",
        "    if value >= 0.5:\n",
        "      row_list.append(1)\n",
        "    else:\n",
        "      row_list.append(0)\n",
        "  results_RNN.append(row_list)"
      ],
      "execution_count": 50,
      "outputs": []
    },
    {
      "cell_type": "code",
      "metadata": {
        "colab": {
          "base_uri": "https://localhost:8080/"
        },
        "id": "t_O8zWoNCx4k",
        "outputId": "4acf2924-37b3-4909-a9ec-6a5131dcd677"
      },
      "source": [
        "loss, accuracy = RNN_model.evaluate(padded_test_title, y_test.values)\n",
        "print('Using title data with a simple RNN, the F1 score on the validation set is', accuracy)"
      ],
      "execution_count": 51,
      "outputs": [
        {
          "output_type": "stream",
          "text": [
            "1500/1500 [==============================] - 11s 6ms/step - loss: 0.0977 - accuracy: 0.9038\n",
            "Using title data with a simple RNN, the F1 score on the validation set is 0.9037708044052124\n"
          ],
          "name": "stdout"
        }
      ]
    },
    {
      "cell_type": "code",
      "metadata": {
        "colab": {
          "base_uri": "https://localhost:8080/"
        },
        "id": "1wIB4uNcew1n",
        "outputId": "bcefa3a9-b856-4db4-efe0-d4733846b2d8"
      },
      "source": [
        "print('Just title with a simple RNN, F1 Score: ', f1_score(y_test.values, results_RNN, average='macro'))"
      ],
      "execution_count": 52,
      "outputs": [
        {
          "output_type": "stream",
          "text": [
            "Just title with a simple RNN, F1 Score:  0.8467662099027317\n"
          ],
          "name": "stdout"
        }
      ]
    },
    {
      "cell_type": "markdown",
      "metadata": {
        "id": "XyG_GdirimDK"
      },
      "source": [
        "With just title and a RNN, we can predict the tender accuracy with an accuracy of 90% and an F1 score of 84% which dont seem bad."
      ]
    },
    {
      "cell_type": "markdown",
      "metadata": {
        "id": "4d1ydzHzv5Wm"
      },
      "source": [
        "#BERT"
      ]
    },
    {
      "cell_type": "markdown",
      "metadata": {
        "id": "n4KX0l_TwJQK"
      },
      "source": [
        "As bert uses its own dictionary and tokenizer, we import the trained tokenizer for bert"
      ]
    },
    {
      "cell_type": "code",
      "metadata": {
        "colab": {
          "base_uri": "https://localhost:8080/",
          "height": 164,
          "referenced_widgets": [
            "8c7e9cbdfe3b431089367b58a20fb8f5",
            "0fcc5a097bb6487684fc9dd1a11c57e8",
            "28ea72c4c68d4807a6c90fdfc6423748",
            "37fd60064b0747feadfee272cffd8c73",
            "86f6df4ba066477fac0244576be7eb4f",
            "48470ab2999749a4b1b50314d9141e16",
            "03a47ab6e74146f8a7bc5bb67b450a34",
            "0a2b2c58673f41f1bdbb77bcfe03746c",
            "82089557ce0a4525b69aca8c5cf78946",
            "5ace0e9be9db40f196a8538bfcabaa96",
            "d72b5556469c440bb0e5cbb29b0f6c24",
            "6f962f553e23404d80ecbf84038a48f3",
            "dc47063358044c538801aa564a663245",
            "72e28feb76d742f8b6b5a72f2915118a",
            "f9c010b7379b4e729d252c02e8f5c3cb",
            "7203fb2fe56246c2979a4e68f7ab6538",
            "3b67436c28104b82b543f92cc99fecb4",
            "0714d9e6cf544c5d903488ed9b154701",
            "6f7d6c07c8c84596821b3c98517ede94",
            "1ff435b13e714043988b630431bb1003",
            "b434b87c03a04d2ba980f7bdc4d4f770",
            "a0a8548190134a9fa9c74529a70624e4",
            "85d9ad88936547a4848ce92c7c0de1ad",
            "78e9e1515548486a80aff186bcb82f8f"
          ]
        },
        "id": "2mAKeYBqv1cM",
        "outputId": "86bc9ee5-89a9-4c26-9a6c-2784070bd6bb"
      },
      "source": [
        "tokenizer = BertTokenizer.from_pretrained(\"bert-base-uncased\", do_lower_case=True)"
      ],
      "execution_count": 15,
      "outputs": [
        {
          "output_type": "display_data",
          "data": {
            "application/vnd.jupyter.widget-view+json": {
              "model_id": "8c7e9cbdfe3b431089367b58a20fb8f5",
              "version_minor": 0,
              "version_major": 2
            },
            "text/plain": [
              "HBox(children=(FloatProgress(value=0.0, description='Downloading', max=231508.0, style=ProgressStyle(descripti…"
            ]
          },
          "metadata": {
            "tags": []
          }
        },
        {
          "output_type": "stream",
          "text": [
            "\n"
          ],
          "name": "stdout"
        },
        {
          "output_type": "display_data",
          "data": {
            "application/vnd.jupyter.widget-view+json": {
              "model_id": "82089557ce0a4525b69aca8c5cf78946",
              "version_minor": 0,
              "version_major": 2
            },
            "text/plain": [
              "HBox(children=(FloatProgress(value=0.0, description='Downloading', max=28.0, style=ProgressStyle(description_w…"
            ]
          },
          "metadata": {
            "tags": []
          }
        },
        {
          "output_type": "stream",
          "text": [
            "\n"
          ],
          "name": "stdout"
        },
        {
          "output_type": "display_data",
          "data": {
            "application/vnd.jupyter.widget-view+json": {
              "model_id": "3b67436c28104b82b543f92cc99fecb4",
              "version_minor": 0,
              "version_major": 2
            },
            "text/plain": [
              "HBox(children=(FloatProgress(value=0.0, description='Downloading', max=466062.0, style=ProgressStyle(descripti…"
            ]
          },
          "metadata": {
            "tags": []
          }
        },
        {
          "output_type": "stream",
          "text": [
            "\n"
          ],
          "name": "stdout"
        }
      ]
    },
    {
      "cell_type": "markdown",
      "metadata": {
        "id": "YwHRgG-BwWk6"
      },
      "source": [
        "We import our pretrained bert layer"
      ]
    },
    {
      "cell_type": "code",
      "metadata": {
        "colab": {
          "base_uri": "https://localhost:8080/"
        },
        "id": "vX8NmVVEv6wI",
        "outputId": "e96e4b47-fdb9-4317-e952-7f3f3afd304e"
      },
      "source": [
        "bert_layer = hub.KerasLayer(\"https://tfhub.dev/tensorflow/bert_multi_cased_L-12_H-768_A-12/2\",\n",
        "                            trainable=True)"
      ],
      "execution_count": 16,
      "outputs": [
        {
          "output_type": "stream",
          "text": [
            "INFO:absl:Using /tmp/tfhub_modules to cache modules.\n",
            "INFO:absl:Downloading TF-Hub Module 'https://tfhub.dev/tensorflow/bert_multi_cased_L-12_H-768_A-12/2'.\n",
            "INFO:absl:Downloaded https://tfhub.dev/tensorflow/bert_multi_cased_L-12_H-768_A-12/2, Total size: 683.05MB\n",
            "INFO:absl:Downloaded TF-Hub Module 'https://tfhub.dev/tensorflow/bert_multi_cased_L-12_H-768_A-12/2'.\n"
          ],
          "name": "stderr"
        }
      ]
    },
    {
      "cell_type": "markdown",
      "metadata": {
        "id": "r_TT9NMowqin"
      },
      "source": [
        "BERT likes its input with a special encoding/tokenization, for that we will use a function to turn the sentences into something BERT can accept"
      ]
    },
    {
      "cell_type": "code",
      "metadata": {
        "id": "P8ta6U1nv63u"
      },
      "source": [
        "#First we define the length of the longest title (This will be different than the previous model as bert takes the full sentence with stopwords, etc)\n",
        "max_seq_length = X['title2'].str.len().max()\n",
        "\n",
        "def encode_names(n, tokenizer):\n",
        "    tokens = list(tokenizer.tokenize(n))\n",
        "    tokens.append('[SEP]')\n",
        "    return tokenizer.convert_tokens_to_ids(tokens)\n",
        "\n",
        "def bert_encode(string_list, tokenizer, max_seq_length):\n",
        "    num_examples = len(string_list)\n",
        "  \n",
        "    string_tokens = tf.ragged.constant([encode_names(n, tokenizer) for n in np.array(string_list)])\n",
        "\n",
        "    cls = [tokenizer.convert_tokens_to_ids(['[CLS]'])]*string_tokens.shape[0]\n",
        "    input_word_ids = tf.concat([cls, string_tokens], axis=-1)\n",
        "\n",
        "    input_mask = tf.ones_like(input_word_ids).to_tensor(shape=(None, max_seq_length))\n",
        "\n",
        "    type_cls = tf.zeros_like(cls)\n",
        "    type_tokens = tf.ones_like(string_tokens)\n",
        "    input_type_ids = tf.concat([type_cls, type_tokens], axis=-1).to_tensor(shape=(None, max_seq_length))\n",
        "\n",
        "    inputs = {\n",
        "        'input_word_ids': input_word_ids.to_tensor(shape=(None, max_seq_length)),\n",
        "        'input_mask': input_mask,\n",
        "        'input_type_ids': input_type_ids}\n",
        "\n",
        "    return inputs"
      ],
      "execution_count": 17,
      "outputs": []
    },
    {
      "cell_type": "code",
      "metadata": {
        "id": "M6Tn5PPTv6-7"
      },
      "source": [
        "title_train_BERT = bert_encode(X_train['title2'], tokenizer, max_seq_length)\n",
        "title_test_BERT = bert_encode(X_test['title2'], tokenizer, max_seq_length)"
      ],
      "execution_count": 30,
      "outputs": []
    },
    {
      "cell_type": "code",
      "metadata": {
        "id": "FYWfCHjfx-6N"
      },
      "source": [
        "max_seq_length = max_seq_length\n",
        "\n",
        "##Title inputs\n",
        "input_word_ids = tf.keras.layers.Input(shape=(max_seq_length,), dtype=tf.int32, name=\"input_word_ids\")\n",
        "input_mask = tf.keras.layers.Input(shape=(max_seq_length,), dtype=tf.int32, name=\"input_mask\")\n",
        "segment_ids = tf.keras.layers.Input(shape=(max_seq_length,), dtype=tf.int32, name=\"segment_ids\")\n",
        "\n",
        "\n",
        "#Title\n",
        "pooled_output, sequence_output = bert_layer([input_word_ids, input_mask, segment_ids])  \n",
        "output = tf.keras.layers.Dropout(rate=0.1)(pooled_output)\n",
        "\n",
        "#title = tf.keras.layers.Dense(2000, activation='relu', kernel_initializer='GlorotNormal')(title)\n",
        "\n",
        "output = tf.keras.layers.Dense(9, activation='sigmoid', name='output')(output)\n",
        "\n",
        "\n",
        "BERT_model = tf.keras.Model(inputs=[{'input_word_ids': input_word_ids,\n",
        "                                'input_mask': input_mask,\n",
        "                                'input_type_ids': segment_ids}], \n",
        "                       outputs=output)"
      ],
      "execution_count": 23,
      "outputs": []
    },
    {
      "cell_type": "code",
      "metadata": {
        "colab": {
          "base_uri": "https://localhost:8080/"
        },
        "id": "h7A-vSgqyxzg",
        "outputId": "91e36db3-f200-45da-fd25-52c1ce518761"
      },
      "source": [
        "print(BERT_model.summary())"
      ],
      "execution_count": 24,
      "outputs": [
        {
          "output_type": "stream",
          "text": [
            "Model: \"model_1\"\n",
            "__________________________________________________________________________________________________\n",
            "Layer (type)                    Output Shape         Param #     Connected to                     \n",
            "==================================================================================================\n",
            "input_word_ids (InputLayer)     [(None, 334)]        0                                            \n",
            "__________________________________________________________________________________________________\n",
            "input_mask (InputLayer)         [(None, 334)]        0                                            \n",
            "__________________________________________________________________________________________________\n",
            "segment_ids (InputLayer)        [(None, 334)]        0                                            \n",
            "__________________________________________________________________________________________________\n",
            "keras_layer (KerasLayer)        [(None, 768), (None, 177853441   input_word_ids[0][0]             \n",
            "                                                                 input_mask[0][0]                 \n",
            "                                                                 segment_ids[0][0]                \n",
            "__________________________________________________________________________________________________\n",
            "dropout_1 (Dropout)             (None, 768)          0           keras_layer[1][0]                \n",
            "__________________________________________________________________________________________________\n",
            "output (Dense)                  (None, 9)            6921        dropout_1[0][0]                  \n",
            "==================================================================================================\n",
            "Total params: 177,860,362\n",
            "Trainable params: 177,860,361\n",
            "Non-trainable params: 1\n",
            "__________________________________________________________________________________________________\n",
            "None\n"
          ],
          "name": "stdout"
        }
      ]
    },
    {
      "cell_type": "markdown",
      "metadata": {
        "id": "Pd-Q7o81B3If"
      },
      "source": [
        "Although the authors state that datasets with >100k samples are less sensible to hyperparameter tuning (we have 112k samples), we fit BERT with the author's recommendations:\n",
        "\n",
        "Learning rate = 5e-5, 3e-5 or 2e-5\n",
        "\n",
        "Batch size = 16 or 32\n",
        "\n",
        "epochs = 3 or 4\n",
        "\n"
      ]
    },
    {
      "cell_type": "code",
      "metadata": {
        "colab": {
          "base_uri": "https://localhost:8080/"
        },
        "id": "CQVfRhNuymqx",
        "outputId": "7ab4d00a-531e-4c0b-f2b6-7ebf7bed3b78"
      },
      "source": [
        "BERT_model.compile(optimizer=keras.optimizers.Adam(learning_rate = 2e-5), loss='binary_crossentropy', metrics=['accuracy'])\n",
        "\n",
        "history_BERT = BERT_model.fit(title_train_BERT, \n",
        "                    y_train.values, \n",
        "                    epochs = 3, \n",
        "                    validation_split = 0.2, \n",
        "                    batch_size = 16)"
      ],
      "execution_count": 27,
      "outputs": [
        {
          "output_type": "stream",
          "text": [
            "Epoch 1/3\n",
            "5600/5600 [==============================] - 2386s 425ms/step - loss: 0.0810 - accuracy: 0.9137 - val_loss: 0.0938 - val_accuracy: 0.9010\n",
            "Epoch 2/3\n",
            "5600/5600 [==============================] - 2380s 425ms/step - loss: 0.0771 - accuracy: 0.9190 - val_loss: 0.0917 - val_accuracy: 0.9049\n",
            "Epoch 3/3\n",
            "5600/5600 [==============================] - 2381s 425ms/step - loss: 0.0743 - accuracy: 0.9203 - val_loss: 0.0942 - val_accuracy: 0.9057\n"
          ],
          "name": "stdout"
        }
      ]
    },
    {
      "cell_type": "code",
      "metadata": {
        "id": "0d9_babTym4M"
      },
      "source": [
        "predictions_BERT = BERT_model.predict((title_test_BERT))\n",
        "\n",
        "results_BERT = []\n",
        "for row in range(len(predictions_BERT)):\n",
        "  row_list = []\n",
        "  for value in predictions_BERT[row]:\n",
        "    if value >= 0.5:\n",
        "      row_list.append(1)\n",
        "    else:\n",
        "      row_list.append(0)\n",
        "  results_BERT.append(row_list)"
      ],
      "execution_count": 33,
      "outputs": []
    },
    {
      "cell_type": "code",
      "metadata": {
        "colab": {
          "base_uri": "https://localhost:8080/"
        },
        "id": "kBnz8Vx2ynCq",
        "outputId": "c26409e9-34b6-4452-f4a9-b6290bae7841"
      },
      "source": [
        "loss, accuracy = BERT_model.evaluate(title_test_BERT, y_test.values)\n",
        "print('Using title data with BERT, the F1 score on the validation set is', accuracy)"
      ],
      "execution_count": 34,
      "outputs": [
        {
          "output_type": "stream",
          "text": [
            "1500/1500 [==============================] - 372s 248ms/step - loss: 0.0939 - accuracy: 0.9072\n",
            "Using title data with BERT, the F1 score on the validation set is 0.9072083234786987\n"
          ],
          "name": "stdout"
        }
      ]
    },
    {
      "cell_type": "code",
      "metadata": {
        "colab": {
          "base_uri": "https://localhost:8080/"
        },
        "id": "lVo2bBKgfenb",
        "outputId": "47079d54-6150-4940-e73d-80a828cea67a"
      },
      "source": [
        "print('Just title with BERT, F1 Score: ', f1_score(y_test.values, results_BERT, average='macro'))"
      ],
      "execution_count": 35,
      "outputs": [
        {
          "output_type": "stream",
          "text": [
            "Just title with BERT, F1 Score:  0.8534984143234196\n"
          ],
          "name": "stdout"
        }
      ]
    },
    {
      "cell_type": "markdown",
      "metadata": {
        "id": "_gHRsjHE-rr0"
      },
      "source": [
        "With just title and a BERT, we can predict the tender accuracy with an accuracy of 90% and an F1 score of 85% which dont seem bad."
      ]
    },
    {
      "cell_type": "markdown",
      "metadata": {
        "id": "ru0S_47I-9SS"
      },
      "source": [
        "With our current dataset and objective, we have obtained almost similar results with both methods, with BERT scoring just 1% better on its F1 score.\n",
        "\n",
        "In this case it seems the extra training time for BERT (30 minutes per epoch) dont seem worth it."
      ]
    },
    {
      "cell_type": "markdown",
      "metadata": {
        "id": "GrFQU5HRf-_X"
      },
      "source": [
        "#Testing on new sentences"
      ]
    },
    {
      "cell_type": "code",
      "metadata": {
        "id": "fSfuT-eDY470"
      },
      "source": [
        "#We create a small function to directly tokenize sentences for the RNN\n",
        "def tokenize_sentence(sentence):\n",
        "  tokenized_sentence = title_tokenizer.texts_to_sequences(sentence)\n",
        "  padded_sentence = pad_sequences(tokenized_sentence, maxlen = longest_title, padding = 'post')\n",
        "  return(padded_sentence)\n",
        "\n",
        "#Defining our categories to map them later\n",
        "categories = [\"General\", \"Defence\",\"Education & Culture\",\"Energy & Environment\",\"Health & Care\",\"Infrastructure & Construction\",\"Professional Services\",\"Technology & Communications\",\"Transport & Logistics\"]"
      ],
      "execution_count": 73,
      "outputs": []
    },
    {
      "cell_type": "code",
      "metadata": {
        "id": "pra9mY9sf6tr"
      },
      "source": [
        "#Edit new_sentence to try new 'titles'\n",
        "new_sentence = 'Concrete and General Repair Works to the East Side Salt Barn'\n",
        "\n",
        "#RNN\n",
        "processed_sentence_RNN = ' '.join(preprocess(new_sentence))\n",
        "sentece_ready_RNN = tokenize_sentence([processed_sentence_RNN])\n",
        "sentence_prediction_RNN = RNN_model.predict(sentece_ready_RNN)\n",
        "sentence_result_RNN = np.where(sentence_prediction_RNN > 0.5, 1, 0).tolist()\n",
        "category_index_RNN = [i for i,val in enumerate(sentence_result_RNN[0]) if val==1]\n",
        "\n",
        "#BERT\n",
        "processed_sentence_BERT = ' '.join(preprocess(new_sentence))\n",
        "sentece_ready_BERT = bert_encode([processed_sentence_BERT], tokenizer, max_seq_length)\n",
        "sentence_prediction_BERT = BERT_model.predict(sentece_ready_BERT)\n",
        "sentence_result_BERT = np.where(sentence_prediction_BERT > 0.5, 1, 0).tolist()\n",
        "category_index_BERT = [i for i,val in enumerate(sentence_result_BERT[0]) if val==1]"
      ],
      "execution_count": 71,
      "outputs": []
    },
    {
      "cell_type": "code",
      "metadata": {
        "colab": {
          "base_uri": "https://localhost:8080/"
        },
        "id": "9XCytwaGfvCn",
        "outputId": "3a1b8217-7fb0-4f0c-ad8a-d354df8f4385"
      },
      "source": [
        "print('According the RNN, the input sentence:')\n",
        "print('-', new_sentence, '-')\n",
        "print('the tender corresponds to: ')\n",
        "print('\\n')\n",
        "for i in category_index_RNN:\n",
        "  print(categories[i])\n",
        "\n",
        "print('\\n')\n",
        "\n",
        "print('According the BERT, the input sentence:')\n",
        "print('-', new_sentence, '-')\n",
        "print('the tender corresponds to: ')\n",
        "print('\\n')\n",
        "for i in category_index_BERT:\n",
        "  print(categories[i])"
      ],
      "execution_count": 72,
      "outputs": [
        {
          "output_type": "stream",
          "text": [
            "According the RNN, the input sentence:\n",
            "- Concrete and General Repair Works to the East Side Salt Barn -\n",
            "the tender corresponds to: \n",
            "\n",
            "\n",
            "Infrastructure & Construction\n",
            "\n",
            "\n",
            "According the BERT, the input sentence:\n",
            "- Concrete and General Repair Works to the East Side Salt Barn -\n",
            "the tender corresponds to: \n",
            "\n",
            "\n",
            "Infrastructure & Construction\n"
          ],
          "name": "stdout"
        }
      ]
    }
  ]
}
